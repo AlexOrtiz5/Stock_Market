{
 "cells": [
  {
   "cell_type": "markdown",
   "metadata": {},
   "source": [
    "# Import libraries"
   ]
  },
  {
   "cell_type": "code",
   "execution_count": 8,
   "metadata": {},
   "outputs": [],
   "source": [
    "import pandas as pd\n",
    "import numpy as np"
   ]
  },
  {
   "cell_type": "markdown",
   "metadata": {},
   "source": [
    "# Load data"
   ]
  },
  {
   "cell_type": "code",
   "execution_count": 2,
   "metadata": {},
   "outputs": [
    {
     "data": {
      "text/html": [
       "<div>\n",
       "<style scoped>\n",
       "    .dataframe tbody tr th:only-of-type {\n",
       "        vertical-align: middle;\n",
       "    }\n",
       "\n",
       "    .dataframe tbody tr th {\n",
       "        vertical-align: top;\n",
       "    }\n",
       "\n",
       "    .dataframe thead th {\n",
       "        text-align: right;\n",
       "    }\n",
       "</style>\n",
       "<table border=\"1\" class=\"dataframe\">\n",
       "  <thead>\n",
       "    <tr style=\"text-align: right;\">\n",
       "      <th></th>\n",
       "      <th>Ticker</th>\n",
       "      <th>Date</th>\n",
       "      <th>Open</th>\n",
       "      <th>High</th>\n",
       "      <th>Low</th>\n",
       "      <th>Close</th>\n",
       "      <th>Adj Close</th>\n",
       "      <th>Volume</th>\n",
       "    </tr>\n",
       "  </thead>\n",
       "  <tbody>\n",
       "    <tr>\n",
       "      <th>0</th>\n",
       "      <td>AAPL</td>\n",
       "      <td>2023-02-07</td>\n",
       "      <td>150.639999</td>\n",
       "      <td>155.229996</td>\n",
       "      <td>150.639999</td>\n",
       "      <td>154.649994</td>\n",
       "      <td>154.414230</td>\n",
       "      <td>83322600</td>\n",
       "    </tr>\n",
       "    <tr>\n",
       "      <th>1</th>\n",
       "      <td>AAPL</td>\n",
       "      <td>2023-02-08</td>\n",
       "      <td>153.880005</td>\n",
       "      <td>154.580002</td>\n",
       "      <td>151.169998</td>\n",
       "      <td>151.919998</td>\n",
       "      <td>151.688400</td>\n",
       "      <td>64120100</td>\n",
       "    </tr>\n",
       "    <tr>\n",
       "      <th>2</th>\n",
       "      <td>AAPL</td>\n",
       "      <td>2023-02-09</td>\n",
       "      <td>153.779999</td>\n",
       "      <td>154.330002</td>\n",
       "      <td>150.419998</td>\n",
       "      <td>150.869995</td>\n",
       "      <td>150.639999</td>\n",
       "      <td>56007100</td>\n",
       "    </tr>\n",
       "    <tr>\n",
       "      <th>3</th>\n",
       "      <td>AAPL</td>\n",
       "      <td>2023-02-10</td>\n",
       "      <td>149.460007</td>\n",
       "      <td>151.339996</td>\n",
       "      <td>149.220001</td>\n",
       "      <td>151.009995</td>\n",
       "      <td>151.009995</td>\n",
       "      <td>57450700</td>\n",
       "    </tr>\n",
       "    <tr>\n",
       "      <th>4</th>\n",
       "      <td>AAPL</td>\n",
       "      <td>2023-02-13</td>\n",
       "      <td>150.949997</td>\n",
       "      <td>154.259995</td>\n",
       "      <td>150.919998</td>\n",
       "      <td>153.850006</td>\n",
       "      <td>153.850006</td>\n",
       "      <td>62199000</td>\n",
       "    </tr>\n",
       "    <tr>\n",
       "      <th>...</th>\n",
       "      <td>...</td>\n",
       "      <td>...</td>\n",
       "      <td>...</td>\n",
       "      <td>...</td>\n",
       "      <td>...</td>\n",
       "      <td>...</td>\n",
       "      <td>...</td>\n",
       "      <td>...</td>\n",
       "    </tr>\n",
       "    <tr>\n",
       "      <th>243</th>\n",
       "      <td>GOOG</td>\n",
       "      <td>2023-05-01</td>\n",
       "      <td>107.720001</td>\n",
       "      <td>108.680000</td>\n",
       "      <td>107.500000</td>\n",
       "      <td>107.709999</td>\n",
       "      <td>107.709999</td>\n",
       "      <td>20926300</td>\n",
       "    </tr>\n",
       "    <tr>\n",
       "      <th>244</th>\n",
       "      <td>GOOG</td>\n",
       "      <td>2023-05-02</td>\n",
       "      <td>107.660004</td>\n",
       "      <td>107.730003</td>\n",
       "      <td>104.500000</td>\n",
       "      <td>105.980003</td>\n",
       "      <td>105.980003</td>\n",
       "      <td>20343100</td>\n",
       "    </tr>\n",
       "    <tr>\n",
       "      <th>245</th>\n",
       "      <td>GOOG</td>\n",
       "      <td>2023-05-03</td>\n",
       "      <td>106.220001</td>\n",
       "      <td>108.129997</td>\n",
       "      <td>105.620003</td>\n",
       "      <td>106.120003</td>\n",
       "      <td>106.120003</td>\n",
       "      <td>17116300</td>\n",
       "    </tr>\n",
       "    <tr>\n",
       "      <th>246</th>\n",
       "      <td>GOOG</td>\n",
       "      <td>2023-05-04</td>\n",
       "      <td>106.160004</td>\n",
       "      <td>106.300003</td>\n",
       "      <td>104.699997</td>\n",
       "      <td>105.209999</td>\n",
       "      <td>105.209999</td>\n",
       "      <td>19780600</td>\n",
       "    </tr>\n",
       "    <tr>\n",
       "      <th>247</th>\n",
       "      <td>GOOG</td>\n",
       "      <td>2023-05-05</td>\n",
       "      <td>105.320000</td>\n",
       "      <td>106.440002</td>\n",
       "      <td>104.738998</td>\n",
       "      <td>106.214996</td>\n",
       "      <td>106.214996</td>\n",
       "      <td>20705300</td>\n",
       "    </tr>\n",
       "  </tbody>\n",
       "</table>\n",
       "<p>248 rows × 8 columns</p>\n",
       "</div>"
      ],
      "text/plain": [
       "    Ticker        Date        Open        High         Low       Close  \\\n",
       "0     AAPL  2023-02-07  150.639999  155.229996  150.639999  154.649994   \n",
       "1     AAPL  2023-02-08  153.880005  154.580002  151.169998  151.919998   \n",
       "2     AAPL  2023-02-09  153.779999  154.330002  150.419998  150.869995   \n",
       "3     AAPL  2023-02-10  149.460007  151.339996  149.220001  151.009995   \n",
       "4     AAPL  2023-02-13  150.949997  154.259995  150.919998  153.850006   \n",
       "..     ...         ...         ...         ...         ...         ...   \n",
       "243   GOOG  2023-05-01  107.720001  108.680000  107.500000  107.709999   \n",
       "244   GOOG  2023-05-02  107.660004  107.730003  104.500000  105.980003   \n",
       "245   GOOG  2023-05-03  106.220001  108.129997  105.620003  106.120003   \n",
       "246   GOOG  2023-05-04  106.160004  106.300003  104.699997  105.209999   \n",
       "247   GOOG  2023-05-05  105.320000  106.440002  104.738998  106.214996   \n",
       "\n",
       "      Adj Close    Volume  \n",
       "0    154.414230  83322600  \n",
       "1    151.688400  64120100  \n",
       "2    150.639999  56007100  \n",
       "3    151.009995  57450700  \n",
       "4    153.850006  62199000  \n",
       "..          ...       ...  \n",
       "243  107.709999  20926300  \n",
       "244  105.980003  20343100  \n",
       "245  106.120003  17116300  \n",
       "246  105.209999  19780600  \n",
       "247  106.214996  20705300  \n",
       "\n",
       "[248 rows x 8 columns]"
      ]
     },
     "execution_count": 2,
     "metadata": {},
     "output_type": "execute_result"
    }
   ],
   "source": [
    "# Load the CSV file\n",
    "df = pd.read_csv(\"./Stock_Data/stocks.csv\") \n",
    "df"
   ]
  },
  {
   "cell_type": "code",
   "execution_count": 3,
   "metadata": {},
   "outputs": [
    {
     "data": {
      "text/plain": [
       "Index(['Ticker', 'Date', 'Open', 'High', 'Low', 'Close', 'Adj Close',\n",
       "       'Volume'],\n",
       "      dtype='object')"
      ]
     },
     "execution_count": 3,
     "metadata": {},
     "output_type": "execute_result"
    }
   ],
   "source": [
    "df.columns"
   ]
  },
  {
   "cell_type": "markdown",
   "metadata": {},
   "source": [
    "# 1. Handle Missing Values"
   ]
  },
  {
   "cell_type": "code",
   "execution_count": 4,
   "metadata": {},
   "outputs": [
    {
     "name": "stdout",
     "output_type": "stream",
     "text": [
      "No missing values found.\n"
     ]
    }
   ],
   "source": [
    "if df.isnull().sum().sum() > 0:\n",
    "    print(\"Missing values found. Handling missing values...\")\n",
    "    for col in ['Open', 'High', 'Low', 'Close', 'Adj Close', 'Volume']:\n",
    "        if df[col].isnull().any():\n",
    "            if pd.api.types.is_numeric_dtype(df[col]):\n",
    "                df[col].fillna(df[col].median(), inplace=True)\n",
    "            else:\n",
    "                print(f\"Column {col} is not numeric and contains missing values.\")\n",
    "                df = df.dropna(subset=[col])\n",
    "    if df['Date'].isnull().any():\n",
    "        df['Date'] = df['Date'].ffill().bfill()\n",
    "\n",
    "else:\n",
    "    print(\"No missing values found.\")"
   ]
  },
  {
   "cell_type": "markdown",
   "metadata": {},
   "source": [
    "# 2. Data Type Correction"
   ]
  },
  {
   "cell_type": "code",
   "execution_count": 5,
   "metadata": {},
   "outputs": [],
   "source": [
    "df['Date'] = pd.to_datetime(df['Date'], errors='coerce')\n",
    "numerical_cols = ['Open', 'High', 'Low', 'Close', 'Adj Close', 'Volume']\n",
    "for col in numerical_cols:\n",
    "    df[col] = pd.to_numeric(df[col], errors='coerce')\n",
    "    df[col] = df[col].fillna(0)"
   ]
  },
  {
   "cell_type": "markdown",
   "metadata": {},
   "source": [
    "# 3. Remove Duplicates"
   ]
  },
  {
   "cell_type": "code",
   "execution_count": 6,
   "metadata": {},
   "outputs": [],
   "source": [
    "df.drop_duplicates(inplace=True)"
   ]
  },
  {
   "cell_type": "markdown",
   "metadata": {},
   "source": [
    "# 4. Handle Outliers"
   ]
  },
  {
   "cell_type": "code",
   "execution_count": 9,
   "metadata": {},
   "outputs": [],
   "source": [
    "def remove_outliers(df, col, threshold=3):\n",
    "    if pd.api.types.is_numeric_dtype(df[col]):\n",
    "        z_scores = np.abs((df[col] - df[col].mean()) / df[col].std())\n",
    "        df = df[z_scores < threshold]\n",
    "    return df\n",
    "\n",
    "for col in ['Open', 'High', 'Low', 'Close', 'Adj Close', 'Volume']:\n",
    "    df = remove_outliers(df, col)"
   ]
  },
  {
   "cell_type": "markdown",
   "metadata": {},
   "source": [
    "# 5. Sort by Date"
   ]
  },
  {
   "cell_type": "code",
   "execution_count": 10,
   "metadata": {},
   "outputs": [],
   "source": [
    "df.sort_values(by='Date', inplace=True)\n",
    "df.reset_index(drop=True, inplace=True)"
   ]
  },
  {
   "cell_type": "markdown",
   "metadata": {},
   "source": [
    "# Report of results"
   ]
  },
  {
   "cell_type": "code",
   "execution_count": 11,
   "metadata": {},
   "outputs": [
    {
     "name": "stdout",
     "output_type": "stream",
     "text": [
      "  Ticker       Date        Open        High         Low       Close  \\\n",
      "0   AAPL 2023-02-07  150.639999  155.229996  150.639999  154.649994   \n",
      "1   GOOG 2023-02-07  103.629997  108.669998  103.547997  108.040001   \n",
      "2   MSFT 2023-02-07  260.529999  268.769989  260.079987  267.559998   \n",
      "3   NFLX 2023-02-07  358.510010  364.179993  354.179993  362.950012   \n",
      "4   GOOG 2023-02-08  102.690002  103.580002   98.455002  100.000000   \n",
      "\n",
      "    Adj Close    Volume  \n",
      "0  154.414230  83322600  \n",
      "1  108.040001  33738800  \n",
      "2  266.891510  50841400  \n",
      "3  362.950012   6289400  \n",
      "4  100.000000  73546000  \n",
      "Ticker               object\n",
      "Date         datetime64[ns]\n",
      "Open                float64\n",
      "High                float64\n",
      "Low                 float64\n",
      "Close               float64\n",
      "Adj Close           float64\n",
      "Volume                int64\n",
      "dtype: object\n",
      "Ticker       0\n",
      "Date         0\n",
      "Open         0\n",
      "High         0\n",
      "Low          0\n",
      "Close        0\n",
      "Adj Close    0\n",
      "Volume       0\n",
      "dtype: int64\n"
     ]
    }
   ],
   "source": [
    "print(df.head())\n",
    "print(df.dtypes)\n",
    "print(df.isnull().sum())"
   ]
  },
  {
   "cell_type": "markdown",
   "metadata": {},
   "source": [
    "# Save the clean data"
   ]
  },
  {
   "cell_type": "code",
   "execution_count": 12,
   "metadata": {},
   "outputs": [],
   "source": [
    "df.to_csv(\"./Stock_Data/clean_stocks.csv\", index=False)"
   ]
  }
 ],
 "metadata": {
  "kernelspec": {
   "display_name": "base",
   "language": "python",
   "name": "python3"
  },
  "language_info": {
   "codemirror_mode": {
    "name": "ipython",
    "version": 3
   },
   "file_extension": ".py",
   "mimetype": "text/x-python",
   "name": "python",
   "nbconvert_exporter": "python",
   "pygments_lexer": "ipython3",
   "version": "3.11.5"
  }
 },
 "nbformat": 4,
 "nbformat_minor": 2
}
