{
 "cells": [
  {
   "cell_type": "markdown",
   "id": "d5e1dfc6",
   "metadata": {},
   "source": [
    "# Import libraries"
   ]
  },
  {
   "cell_type": "code",
   "execution_count": 1,
   "id": "63efd334",
   "metadata": {},
   "outputs": [],
   "source": [
    "import pandas as pd\n",
    "import numpy as np"
   ]
  },
  {
   "cell_type": "code",
   "execution_count": 2,
   "id": "47220946",
   "metadata": {},
   "outputs": [
    {
     "data": {
      "text/html": [
       "<div>\n",
       "<style scoped>\n",
       "    .dataframe tbody tr th:only-of-type {\n",
       "        vertical-align: middle;\n",
       "    }\n",
       "\n",
       "    .dataframe tbody tr th {\n",
       "        vertical-align: top;\n",
       "    }\n",
       "\n",
       "    .dataframe thead th {\n",
       "        text-align: right;\n",
       "    }\n",
       "</style>\n",
       "<table border=\"1\" class=\"dataframe\">\n",
       "  <thead>\n",
       "    <tr style=\"text-align: right;\">\n",
       "      <th></th>\n",
       "      <th>Ticker</th>\n",
       "      <th>Date</th>\n",
       "      <th>Open</th>\n",
       "      <th>High</th>\n",
       "      <th>Low</th>\n",
       "      <th>Close</th>\n",
       "      <th>Adj Close</th>\n",
       "      <th>Volume</th>\n",
       "    </tr>\n",
       "  </thead>\n",
       "  <tbody>\n",
       "    <tr>\n",
       "      <th>0</th>\n",
       "      <td>AAPL</td>\n",
       "      <td>2023-02-07</td>\n",
       "      <td>150.639999</td>\n",
       "      <td>155.229996</td>\n",
       "      <td>150.639999</td>\n",
       "      <td>154.649994</td>\n",
       "      <td>154.414230</td>\n",
       "      <td>83322600</td>\n",
       "    </tr>\n",
       "    <tr>\n",
       "      <th>1</th>\n",
       "      <td>GOOG</td>\n",
       "      <td>2023-02-07</td>\n",
       "      <td>103.629997</td>\n",
       "      <td>108.669998</td>\n",
       "      <td>103.547997</td>\n",
       "      <td>108.040001</td>\n",
       "      <td>108.040001</td>\n",
       "      <td>33738800</td>\n",
       "    </tr>\n",
       "    <tr>\n",
       "      <th>2</th>\n",
       "      <td>MSFT</td>\n",
       "      <td>2023-02-07</td>\n",
       "      <td>260.529999</td>\n",
       "      <td>268.769989</td>\n",
       "      <td>260.079987</td>\n",
       "      <td>267.559998</td>\n",
       "      <td>266.891510</td>\n",
       "      <td>50841400</td>\n",
       "    </tr>\n",
       "    <tr>\n",
       "      <th>3</th>\n",
       "      <td>NFLX</td>\n",
       "      <td>2023-02-07</td>\n",
       "      <td>358.510010</td>\n",
       "      <td>364.179993</td>\n",
       "      <td>354.179993</td>\n",
       "      <td>362.950012</td>\n",
       "      <td>362.950012</td>\n",
       "      <td>6289400</td>\n",
       "    </tr>\n",
       "    <tr>\n",
       "      <th>4</th>\n",
       "      <td>GOOG</td>\n",
       "      <td>2023-02-08</td>\n",
       "      <td>102.690002</td>\n",
       "      <td>103.580002</td>\n",
       "      <td>98.455002</td>\n",
       "      <td>100.000000</td>\n",
       "      <td>100.000000</td>\n",
       "      <td>73546000</td>\n",
       "    </tr>\n",
       "    <tr>\n",
       "      <th>...</th>\n",
       "      <td>...</td>\n",
       "      <td>...</td>\n",
       "      <td>...</td>\n",
       "      <td>...</td>\n",
       "      <td>...</td>\n",
       "      <td>...</td>\n",
       "      <td>...</td>\n",
       "      <td>...</td>\n",
       "    </tr>\n",
       "    <tr>\n",
       "      <th>242</th>\n",
       "      <td>NFLX</td>\n",
       "      <td>2023-05-04</td>\n",
       "      <td>319.010010</td>\n",
       "      <td>323.609985</td>\n",
       "      <td>317.950012</td>\n",
       "      <td>320.779999</td>\n",
       "      <td>320.779999</td>\n",
       "      <td>3879700</td>\n",
       "    </tr>\n",
       "    <tr>\n",
       "      <th>243</th>\n",
       "      <td>GOOG</td>\n",
       "      <td>2023-05-04</td>\n",
       "      <td>106.160004</td>\n",
       "      <td>106.300003</td>\n",
       "      <td>104.699997</td>\n",
       "      <td>105.209999</td>\n",
       "      <td>105.209999</td>\n",
       "      <td>19780600</td>\n",
       "    </tr>\n",
       "    <tr>\n",
       "      <th>244</th>\n",
       "      <td>MSFT</td>\n",
       "      <td>2023-05-05</td>\n",
       "      <td>305.720001</td>\n",
       "      <td>311.970001</td>\n",
       "      <td>304.269989</td>\n",
       "      <td>310.649994</td>\n",
       "      <td>310.649994</td>\n",
       "      <td>28181200</td>\n",
       "    </tr>\n",
       "    <tr>\n",
       "      <th>245</th>\n",
       "      <td>NFLX</td>\n",
       "      <td>2023-05-05</td>\n",
       "      <td>323.609985</td>\n",
       "      <td>324.149994</td>\n",
       "      <td>319.440002</td>\n",
       "      <td>322.760010</td>\n",
       "      <td>322.760010</td>\n",
       "      <td>3988600</td>\n",
       "    </tr>\n",
       "    <tr>\n",
       "      <th>246</th>\n",
       "      <td>GOOG</td>\n",
       "      <td>2023-05-05</td>\n",
       "      <td>105.320000</td>\n",
       "      <td>106.440002</td>\n",
       "      <td>104.738998</td>\n",
       "      <td>106.214996</td>\n",
       "      <td>106.214996</td>\n",
       "      <td>20705300</td>\n",
       "    </tr>\n",
       "  </tbody>\n",
       "</table>\n",
       "<p>247 rows × 8 columns</p>\n",
       "</div>"
      ],
      "text/plain": [
       "    Ticker        Date        Open        High         Low       Close  \\\n",
       "0     AAPL  2023-02-07  150.639999  155.229996  150.639999  154.649994   \n",
       "1     GOOG  2023-02-07  103.629997  108.669998  103.547997  108.040001   \n",
       "2     MSFT  2023-02-07  260.529999  268.769989  260.079987  267.559998   \n",
       "3     NFLX  2023-02-07  358.510010  364.179993  354.179993  362.950012   \n",
       "4     GOOG  2023-02-08  102.690002  103.580002   98.455002  100.000000   \n",
       "..     ...         ...         ...         ...         ...         ...   \n",
       "242   NFLX  2023-05-04  319.010010  323.609985  317.950012  320.779999   \n",
       "243   GOOG  2023-05-04  106.160004  106.300003  104.699997  105.209999   \n",
       "244   MSFT  2023-05-05  305.720001  311.970001  304.269989  310.649994   \n",
       "245   NFLX  2023-05-05  323.609985  324.149994  319.440002  322.760010   \n",
       "246   GOOG  2023-05-05  105.320000  106.440002  104.738998  106.214996   \n",
       "\n",
       "      Adj Close    Volume  \n",
       "0    154.414230  83322600  \n",
       "1    108.040001  33738800  \n",
       "2    266.891510  50841400  \n",
       "3    362.950012   6289400  \n",
       "4    100.000000  73546000  \n",
       "..          ...       ...  \n",
       "242  320.779999   3879700  \n",
       "243  105.209999  19780600  \n",
       "244  310.649994  28181200  \n",
       "245  322.760010   3988600  \n",
       "246  106.214996  20705300  \n",
       "\n",
       "[247 rows x 8 columns]"
      ]
     },
     "execution_count": 2,
     "metadata": {},
     "output_type": "execute_result"
    }
   ],
   "source": [
    "# Load the CSV file\n",
    "df = pd.read_csv(\"./Stock_Data/clean_stocks.csv\") \n",
    "df"
   ]
  },
  {
   "cell_type": "markdown",
   "id": "354f6847",
   "metadata": {},
   "source": [
    "# 1. Price Ratios"
   ]
  },
  {
   "cell_type": "code",
   "execution_count": 3,
   "id": "162a4602",
   "metadata": {},
   "outputs": [],
   "source": [
    "df['High_Low_Ratio'] = df['High'] / df['Low']\n",
    "df['Close_Open_Ratio'] = df['Close'] / df['Open']"
   ]
  },
  {
   "cell_type": "code",
   "execution_count": 4,
   "id": "1971b973",
   "metadata": {},
   "outputs": [
    {
     "data": {
      "text/plain": [
       "0      1.030470\n",
       "1      1.049465\n",
       "2      1.033413\n",
       "3      1.028234\n",
       "4      1.052054\n",
       "         ...   \n",
       "242    1.017801\n",
       "243    1.015282\n",
       "244    1.025307\n",
       "245    1.014745\n",
       "246    1.016240\n",
       "Name: High_Low_Ratio, Length: 247, dtype: float64"
      ]
     },
     "execution_count": 4,
     "metadata": {},
     "output_type": "execute_result"
    }
   ],
   "source": [
    "df['High_Low_Ratio']"
   ]
  },
  {
   "cell_type": "code",
   "execution_count": 5,
   "id": "59334820",
   "metadata": {},
   "outputs": [
    {
     "data": {
      "text/plain": [
       "0      1.026620\n",
       "1      1.042555\n",
       "2      1.026983\n",
       "3      1.012385\n",
       "4      0.973805\n",
       "         ...   \n",
       "242    1.005548\n",
       "243    0.991051\n",
       "244    1.016126\n",
       "245    0.997373\n",
       "246    1.008498\n",
       "Name: Close_Open_Ratio, Length: 247, dtype: float64"
      ]
     },
     "execution_count": 5,
     "metadata": {},
     "output_type": "execute_result"
    }
   ],
   "source": [
    "df['Close_Open_Ratio']"
   ]
  },
  {
   "cell_type": "markdown",
   "id": "1fef6fae",
   "metadata": {},
   "source": [
    "# 2. Volatility Measures"
   ]
  },
  {
   "cell_type": "code",
   "execution_count": 6,
   "id": "8de37123",
   "metadata": {},
   "outputs": [],
   "source": [
    "df['Volatility_20'] = df['Close'].rolling(window=20).std()"
   ]
  },
  {
   "cell_type": "code",
   "execution_count": 7,
   "id": "7322a011",
   "metadata": {},
   "outputs": [
    {
     "data": {
      "text/plain": [
       "0            NaN\n",
       "1            NaN\n",
       "2            NaN\n",
       "3            NaN\n",
       "4            NaN\n",
       "         ...    \n",
       "242    90.231459\n",
       "243    93.507129\n",
       "244    93.665690\n",
       "245    95.076327\n",
       "246    96.289502\n",
       "Name: Volatility_20, Length: 247, dtype: float64"
      ]
     },
     "execution_count": 7,
     "metadata": {},
     "output_type": "execute_result"
    }
   ],
   "source": [
    "df['Volatility_20']"
   ]
  },
  {
   "cell_type": "markdown",
   "id": "07d8c1b6",
   "metadata": {},
   "source": [
    "# 3. Volume Changes"
   ]
  },
  {
   "cell_type": "code",
   "execution_count": 8,
   "id": "22dae526",
   "metadata": {},
   "outputs": [],
   "source": [
    "df['Volume_Change'] = df['Volume'].pct_change()"
   ]
  },
  {
   "cell_type": "code",
   "execution_count": 9,
   "id": "71c6cd60",
   "metadata": {},
   "outputs": [
    {
     "data": {
      "text/plain": [
       "0            NaN\n",
       "1      -0.595082\n",
       "2       0.506912\n",
       "3      -0.876294\n",
       "4      10.693643\n",
       "         ...    \n",
       "242    -0.952241\n",
       "243     4.098487\n",
       "244     0.424689\n",
       "245    -0.858466\n",
       "246     4.191120\n",
       "Name: Volume_Change, Length: 247, dtype: float64"
      ]
     },
     "execution_count": 9,
     "metadata": {},
     "output_type": "execute_result"
    }
   ],
   "source": [
    "df['Volume_Change']"
   ]
  },
  {
   "cell_type": "markdown",
   "id": "39e3baf3",
   "metadata": {},
   "source": [
    "# 4. Lagged Variables"
   ]
  },
  {
   "cell_type": "code",
   "execution_count": 10,
   "id": "a97c5c84",
   "metadata": {},
   "outputs": [],
   "source": [
    "df['Close_Lag_1'] = df['Close'].shift(1)\n",
    "df['Close_Lag_2'] = df['Close'].shift(2)\n",
    "df['Volume_Lag_1'] = df['Volume'].shift(1)"
   ]
  },
  {
   "cell_type": "code",
   "execution_count": 11,
   "id": "9af37e58",
   "metadata": {},
   "outputs": [
    {
     "data": {
      "text/plain": [
       "0             NaN\n",
       "1      154.649994\n",
       "2      108.040001\n",
       "3      267.559998\n",
       "4      362.950012\n",
       "          ...    \n",
       "242    165.789993\n",
       "243    320.779999\n",
       "244    105.209999\n",
       "245    310.649994\n",
       "246    322.760010\n",
       "Name: Close_Lag_1, Length: 247, dtype: float64"
      ]
     },
     "execution_count": 11,
     "metadata": {},
     "output_type": "execute_result"
    }
   ],
   "source": [
    "df['Close_Lag_1']"
   ]
  },
  {
   "cell_type": "code",
   "execution_count": 12,
   "id": "58382eac",
   "metadata": {},
   "outputs": [
    {
     "data": {
      "text/plain": [
       "0             NaN\n",
       "1             NaN\n",
       "2      154.649994\n",
       "3      108.040001\n",
       "4      267.559998\n",
       "          ...    \n",
       "242    305.410004\n",
       "243    165.789993\n",
       "244    320.779999\n",
       "245    105.209999\n",
       "246    310.649994\n",
       "Name: Close_Lag_2, Length: 247, dtype: float64"
      ]
     },
     "execution_count": 12,
     "metadata": {},
     "output_type": "execute_result"
    }
   ],
   "source": [
    "df['Close_Lag_2']"
   ]
  },
  {
   "cell_type": "code",
   "execution_count": 13,
   "id": "a68dd84e",
   "metadata": {},
   "outputs": [
    {
     "data": {
      "text/plain": [
       "0             NaN\n",
       "1      83322600.0\n",
       "2      33738800.0\n",
       "3      50841400.0\n",
       "4       6289400.0\n",
       "          ...    \n",
       "242    81235400.0\n",
       "243     3879700.0\n",
       "244    19780600.0\n",
       "245    28181200.0\n",
       "246     3988600.0\n",
       "Name: Volume_Lag_1, Length: 247, dtype: float64"
      ]
     },
     "execution_count": 13,
     "metadata": {},
     "output_type": "execute_result"
    }
   ],
   "source": [
    "df['Volume_Lag_1']"
   ]
  },
  {
   "cell_type": "markdown",
   "id": "81a5ae91",
   "metadata": {},
   "source": [
    "# 5. Technical Indicators"
   ]
  },
  {
   "cell_type": "code",
   "execution_count": 14,
   "id": "68b8c214",
   "metadata": {},
   "outputs": [],
   "source": [
    "# RSI (Relative Strength Index)\n",
    "delta = df['Close'].diff()\n",
    "up, down = delta.copy(), delta.copy()\n",
    "up[up < 0] = 0\n",
    "down[down > 0] = 0\n",
    "roll_up14 = up.rolling(window=14).mean()\n",
    "roll_down14 = down.abs().rolling(window=14).mean()\n",
    "RS = roll_up14 / roll_down14\n",
    "df['RSI'] = 100.0 - (100.0 / (1.0 + RS))"
   ]
  },
  {
   "cell_type": "code",
   "execution_count": 15,
   "id": "02fdec42",
   "metadata": {},
   "outputs": [
    {
     "data": {
      "text/plain": [
       "0            NaN\n",
       "1            NaN\n",
       "2            NaN\n",
       "3            NaN\n",
       "4            NaN\n",
       "         ...    \n",
       "242    50.482537\n",
       "243    49.921620\n",
       "244    54.057272\n",
       "245    49.957392\n",
       "246    50.007370\n",
       "Name: RSI, Length: 247, dtype: float64"
      ]
     },
     "execution_count": 15,
     "metadata": {},
     "output_type": "execute_result"
    }
   ],
   "source": [
    "df['RSI']"
   ]
  },
  {
   "cell_type": "code",
   "execution_count": 16,
   "id": "595a896b",
   "metadata": {},
   "outputs": [],
   "source": [
    "# MACD (Moving Average Convergence Divergence)\n",
    "exp12 = df['Close'].ewm(span=12, adjust=False).mean()\n",
    "exp26 = df['Close'].ewm(span=26, adjust=False).mean()\n",
    "df['MACD'] = exp12 - exp26\n",
    "df['MACD_signal'] = df['MACD'].ewm(span=9, adjust=False).mean()"
   ]
  },
  {
   "cell_type": "code",
   "execution_count": 17,
   "id": "1aa8d26d",
   "metadata": {},
   "outputs": [
    {
     "data": {
      "text/plain": [
       "0       0.000000\n",
       "1      -3.718176\n",
       "2       6.136337\n",
       "3      21.396640\n",
       "4      12.132812\n",
       "         ...    \n",
       "242     9.651662\n",
       "243    -2.057359\n",
       "244     5.180728\n",
       "245    11.758596\n",
       "246    -0.496052\n",
       "Name: MACD, Length: 247, dtype: float64"
      ]
     },
     "execution_count": 17,
     "metadata": {},
     "output_type": "execute_result"
    }
   ],
   "source": [
    "df['MACD']"
   ]
  },
  {
   "cell_type": "code",
   "execution_count": 18,
   "id": "88096fbb",
   "metadata": {},
   "outputs": [
    {
     "data": {
      "text/plain": [
       "0      0.000000\n",
       "1     -0.743635\n",
       "2      0.632359\n",
       "3      4.785215\n",
       "4      6.254735\n",
       "         ...   \n",
       "242    3.894819\n",
       "243    2.704384\n",
       "244    3.199653\n",
       "245    4.911441\n",
       "246    3.829943\n",
       "Name: MACD_signal, Length: 247, dtype: float64"
      ]
     },
     "execution_count": 18,
     "metadata": {},
     "output_type": "execute_result"
    }
   ],
   "source": [
    "df['MACD_signal']"
   ]
  },
  {
   "cell_type": "code",
   "execution_count": 19,
   "id": "f34e91a6",
   "metadata": {},
   "outputs": [],
   "source": [
    "# Stochastic Oscillator %K\n",
    "lowest_low = df['Low'].rolling(window=14).min()\n",
    "highest_high = df['High'].rolling(window=14).max()\n",
    "df['Stochastic_Oscillator_K'] = 100 * (df['Close'] - lowest_low) / (highest_high - lowest_low)"
   ]
  },
  {
   "cell_type": "code",
   "execution_count": 20,
   "id": "03ca3c92",
   "metadata": {},
   "outputs": [
    {
     "data": {
      "text/plain": [
       "0            NaN\n",
       "1            NaN\n",
       "2            NaN\n",
       "3            NaN\n",
       "4            NaN\n",
       "         ...    \n",
       "242    95.390989\n",
       "243     0.313147\n",
       "244    90.923117\n",
       "245    98.506117\n",
       "246     0.684374\n",
       "Name: Stochastic_Oscillator_K, Length: 247, dtype: float64"
      ]
     },
     "execution_count": 20,
     "metadata": {},
     "output_type": "execute_result"
    }
   ],
   "source": [
    "df['Stochastic_Oscillator_K']"
   ]
  },
  {
   "cell_type": "code",
   "execution_count": 21,
   "id": "c634a86e",
   "metadata": {},
   "outputs": [],
   "source": [
    "# OBV (On-Balance Volume)\n",
    "obv = (np.sign(df['Close'].diff()) * df['Volume']).fillna(0).cumsum()\n",
    "df['OBV'] = obv"
   ]
  },
  {
   "cell_type": "code",
   "execution_count": 22,
   "id": "f2f9432f",
   "metadata": {},
   "outputs": [
    {
     "data": {
      "text/plain": [
       "0      0.000000e+00\n",
       "1     -3.373880e+07\n",
       "2      1.710260e+07\n",
       "3      2.339200e+07\n",
       "4     -5.015400e+07\n",
       "           ...     \n",
       "242   -2.138692e+09\n",
       "243   -2.158473e+09\n",
       "244   -2.130292e+09\n",
       "245   -2.126303e+09\n",
       "246   -2.147008e+09\n",
       "Name: OBV, Length: 247, dtype: float64"
      ]
     },
     "execution_count": 22,
     "metadata": {},
     "output_type": "execute_result"
    }
   ],
   "source": [
    "df['OBV']"
   ]
  },
  {
   "cell_type": "code",
   "execution_count": 23,
   "id": "2e890f30",
   "metadata": {},
   "outputs": [],
   "source": [
    "# ATR (Average True Range)\n",
    "high_low = df['High'] - df['Low']\n",
    "high_close = np.abs(df['High'] - df['Close'].shift())\n",
    "low_close = np.abs(df['Low'] - df['Close'].shift())\n",
    "ranges = pd.concat([high_low, high_close, low_close], axis=1)\n",
    "true_range = np.max(ranges, axis=1)\n",
    "df['ATR'] = true_range.rolling(window=14).mean()"
   ]
  },
  {
   "cell_type": "code",
   "execution_count": 24,
   "id": "d1265f10",
   "metadata": {},
   "outputs": [
    {
     "data": {
      "text/plain": [
       "0             NaN\n",
       "1             NaN\n",
       "2             NaN\n",
       "3             NaN\n",
       "4             NaN\n",
       "          ...    \n",
       "242    115.322140\n",
       "243    116.609283\n",
       "244    126.896427\n",
       "245    116.314997\n",
       "246    116.200784\n",
       "Name: ATR, Length: 247, dtype: float64"
      ]
     },
     "execution_count": 24,
     "metadata": {},
     "output_type": "execute_result"
    }
   ],
   "source": [
    "df['ATR']"
   ]
  },
  {
   "cell_type": "code",
   "execution_count": 25,
   "id": "1ec1675d",
   "metadata": {},
   "outputs": [],
   "source": [
    "# Drop rows with NaN values resulting from feature engineering\n",
    "df.dropna(inplace=True)"
   ]
  },
  {
   "cell_type": "code",
   "execution_count": 26,
   "id": "07187bae",
   "metadata": {},
   "outputs": [
    {
     "name": "stdout",
     "output_type": "stream",
     "text": [
      "   Ticker        Date        Open        High         Low       Close  \\\n",
      "19   AAPL  2023-02-13  150.949997  154.259995  150.919998  153.850006   \n",
      "20   AAPL  2023-02-14  152.119995  153.770004  150.860001  153.199997   \n",
      "21   GOOG  2023-02-14   94.660004   95.175003   92.650002   94.949997   \n",
      "22   MSFT  2023-02-14  272.670013  274.970001  269.279999  272.170013   \n",
      "23   NFLX  2023-02-14  357.549988  363.750000  353.399994  359.959991   \n",
      "\n",
      "     Adj Close    Volume  High_Low_Ratio  Close_Open_Ratio  ...  \\\n",
      "19  153.850006  62199000        1.022131          1.019212  ...   \n",
      "20  153.199997  61707600        1.019289          1.007100  ...   \n",
      "21   94.949997  42513100        1.027253          1.003064  ...   \n",
      "22  271.490021  37047900        1.021130          0.998166  ...   \n",
      "23  359.959991   4624800        1.029287          1.006740  ...   \n",
      "\n",
      "    Volume_Change  Close_Lag_1  Close_Lag_2  Volume_Lag_1        RSI  \\\n",
      "19       0.393631   271.320007   358.570007    44630900.0  50.043624   \n",
      "20      -0.007900   153.850006   271.320007    62199000.0  44.653396   \n",
      "21      -0.311056   153.199997   153.850006    61707600.0  45.608806   \n",
      "22      -0.128553    94.949997   153.199997    42513100.0  47.783215   \n",
      "23      -0.875167   272.170013    94.949997    37047900.0  57.117256   \n",
      "\n",
      "         MACD  MACD_signal  Stochastic_Oscillator_K          OBV         ATR  \n",
      "19  11.835920    14.388340                21.427299 -355474700.0  161.768573  \n",
      "20   5.782434    12.667159                21.195128 -417182300.0  146.534287  \n",
      "21  -3.672946     9.399138                 0.817980 -459695400.0  143.672144  \n",
      "22   3.098059     8.138922                66.614718 -422647500.0  148.880718  \n",
      "23  15.370861     9.585310                98.601989 -418022700.0  136.233574  \n",
      "\n",
      "[5 rows x 21 columns]\n",
      "Index(['Ticker', 'Date', 'Open', 'High', 'Low', 'Close', 'Adj Close', 'Volume',\n",
      "       'High_Low_Ratio', 'Close_Open_Ratio', 'Volatility_20', 'Volume_Change',\n",
      "       'Close_Lag_1', 'Close_Lag_2', 'Volume_Lag_1', 'RSI', 'MACD',\n",
      "       'MACD_signal', 'Stochastic_Oscillator_K', 'OBV', 'ATR'],\n",
      "      dtype='object')\n"
     ]
    }
   ],
   "source": [
    "print(df.head())\n",
    "print(df.columns)"
   ]
  }
 ],
 "metadata": {
  "kernelspec": {
   "display_name": "base",
   "language": "python",
   "name": "python3"
  },
  "language_info": {
   "codemirror_mode": {
    "name": "ipython",
    "version": 3
   },
   "file_extension": ".py",
   "mimetype": "text/x-python",
   "name": "python",
   "nbconvert_exporter": "python",
   "pygments_lexer": "ipython3",
   "version": "3.11.5"
  }
 },
 "nbformat": 4,
 "nbformat_minor": 5
}
