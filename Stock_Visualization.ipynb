{
 "cells": [
  {
   "cell_type": "markdown",
   "id": "b8b44cc4",
   "metadata": {},
   "source": [
    "# Import libraries"
   ]
  },
  {
   "cell_type": "code",
   "execution_count": 1,
   "id": "efb5db39",
   "metadata": {},
   "outputs": [],
   "source": [
    "import pandas as pd\n",
    "import matplotlib.pyplot as plt\n",
    "import matplotlib.dates as mdates\n",
    "import plotly.graph_objects as go\n",
    "import seaborn as sns"
   ]
  },
  {
   "cell_type": "code",
   "execution_count": 2,
   "id": "fb8bdde5",
   "metadata": {},
   "outputs": [
    {
     "data": {
      "text/html": [
       "<div>\n",
       "<style scoped>\n",
       "    .dataframe tbody tr th:only-of-type {\n",
       "        vertical-align: middle;\n",
       "    }\n",
       "\n",
       "    .dataframe tbody tr th {\n",
       "        vertical-align: top;\n",
       "    }\n",
       "\n",
       "    .dataframe thead th {\n",
       "        text-align: right;\n",
       "    }\n",
       "</style>\n",
       "<table border=\"1\" class=\"dataframe\">\n",
       "  <thead>\n",
       "    <tr style=\"text-align: right;\">\n",
       "      <th></th>\n",
       "      <th>Ticker</th>\n",
       "      <th>Open</th>\n",
       "      <th>High</th>\n",
       "      <th>Low</th>\n",
       "      <th>Close</th>\n",
       "      <th>Adj Close</th>\n",
       "      <th>Volume</th>\n",
       "    </tr>\n",
       "    <tr>\n",
       "      <th>Date</th>\n",
       "      <th></th>\n",
       "      <th></th>\n",
       "      <th></th>\n",
       "      <th></th>\n",
       "      <th></th>\n",
       "      <th></th>\n",
       "      <th></th>\n",
       "    </tr>\n",
       "  </thead>\n",
       "  <tbody>\n",
       "    <tr>\n",
       "      <th>2023-02-07</th>\n",
       "      <td>AAPL</td>\n",
       "      <td>150.639999</td>\n",
       "      <td>155.229996</td>\n",
       "      <td>150.639999</td>\n",
       "      <td>154.649994</td>\n",
       "      <td>154.414230</td>\n",
       "      <td>83322600</td>\n",
       "    </tr>\n",
       "    <tr>\n",
       "      <th>2023-02-07</th>\n",
       "      <td>GOOG</td>\n",
       "      <td>103.629997</td>\n",
       "      <td>108.669998</td>\n",
       "      <td>103.547997</td>\n",
       "      <td>108.040001</td>\n",
       "      <td>108.040001</td>\n",
       "      <td>33738800</td>\n",
       "    </tr>\n",
       "    <tr>\n",
       "      <th>2023-02-07</th>\n",
       "      <td>MSFT</td>\n",
       "      <td>260.529999</td>\n",
       "      <td>268.769989</td>\n",
       "      <td>260.079987</td>\n",
       "      <td>267.559998</td>\n",
       "      <td>266.891510</td>\n",
       "      <td>50841400</td>\n",
       "    </tr>\n",
       "    <tr>\n",
       "      <th>2023-02-07</th>\n",
       "      <td>NFLX</td>\n",
       "      <td>358.510010</td>\n",
       "      <td>364.179993</td>\n",
       "      <td>354.179993</td>\n",
       "      <td>362.950012</td>\n",
       "      <td>362.950012</td>\n",
       "      <td>6289400</td>\n",
       "    </tr>\n",
       "    <tr>\n",
       "      <th>2023-02-08</th>\n",
       "      <td>GOOG</td>\n",
       "      <td>102.690002</td>\n",
       "      <td>103.580002</td>\n",
       "      <td>98.455002</td>\n",
       "      <td>100.000000</td>\n",
       "      <td>100.000000</td>\n",
       "      <td>73546000</td>\n",
       "    </tr>\n",
       "    <tr>\n",
       "      <th>...</th>\n",
       "      <td>...</td>\n",
       "      <td>...</td>\n",
       "      <td>...</td>\n",
       "      <td>...</td>\n",
       "      <td>...</td>\n",
       "      <td>...</td>\n",
       "      <td>...</td>\n",
       "    </tr>\n",
       "    <tr>\n",
       "      <th>2023-05-04</th>\n",
       "      <td>NFLX</td>\n",
       "      <td>319.010010</td>\n",
       "      <td>323.609985</td>\n",
       "      <td>317.950012</td>\n",
       "      <td>320.779999</td>\n",
       "      <td>320.779999</td>\n",
       "      <td>3879700</td>\n",
       "    </tr>\n",
       "    <tr>\n",
       "      <th>2023-05-04</th>\n",
       "      <td>GOOG</td>\n",
       "      <td>106.160004</td>\n",
       "      <td>106.300003</td>\n",
       "      <td>104.699997</td>\n",
       "      <td>105.209999</td>\n",
       "      <td>105.209999</td>\n",
       "      <td>19780600</td>\n",
       "    </tr>\n",
       "    <tr>\n",
       "      <th>2023-05-05</th>\n",
       "      <td>MSFT</td>\n",
       "      <td>305.720001</td>\n",
       "      <td>311.970001</td>\n",
       "      <td>304.269989</td>\n",
       "      <td>310.649994</td>\n",
       "      <td>310.649994</td>\n",
       "      <td>28181200</td>\n",
       "    </tr>\n",
       "    <tr>\n",
       "      <th>2023-05-05</th>\n",
       "      <td>NFLX</td>\n",
       "      <td>323.609985</td>\n",
       "      <td>324.149994</td>\n",
       "      <td>319.440002</td>\n",
       "      <td>322.760010</td>\n",
       "      <td>322.760010</td>\n",
       "      <td>3988600</td>\n",
       "    </tr>\n",
       "    <tr>\n",
       "      <th>2023-05-05</th>\n",
       "      <td>GOOG</td>\n",
       "      <td>105.320000</td>\n",
       "      <td>106.440002</td>\n",
       "      <td>104.738998</td>\n",
       "      <td>106.214996</td>\n",
       "      <td>106.214996</td>\n",
       "      <td>20705300</td>\n",
       "    </tr>\n",
       "  </tbody>\n",
       "</table>\n",
       "<p>247 rows × 7 columns</p>\n",
       "</div>"
      ],
      "text/plain": [
       "           Ticker        Open        High         Low       Close   Adj Close  \\\n",
       "Date                                                                            \n",
       "2023-02-07   AAPL  150.639999  155.229996  150.639999  154.649994  154.414230   \n",
       "2023-02-07   GOOG  103.629997  108.669998  103.547997  108.040001  108.040001   \n",
       "2023-02-07   MSFT  260.529999  268.769989  260.079987  267.559998  266.891510   \n",
       "2023-02-07   NFLX  358.510010  364.179993  354.179993  362.950012  362.950012   \n",
       "2023-02-08   GOOG  102.690002  103.580002   98.455002  100.000000  100.000000   \n",
       "...           ...         ...         ...         ...         ...         ...   \n",
       "2023-05-04   NFLX  319.010010  323.609985  317.950012  320.779999  320.779999   \n",
       "2023-05-04   GOOG  106.160004  106.300003  104.699997  105.209999  105.209999   \n",
       "2023-05-05   MSFT  305.720001  311.970001  304.269989  310.649994  310.649994   \n",
       "2023-05-05   NFLX  323.609985  324.149994  319.440002  322.760010  322.760010   \n",
       "2023-05-05   GOOG  105.320000  106.440002  104.738998  106.214996  106.214996   \n",
       "\n",
       "              Volume  \n",
       "Date                  \n",
       "2023-02-07  83322600  \n",
       "2023-02-07  33738800  \n",
       "2023-02-07  50841400  \n",
       "2023-02-07   6289400  \n",
       "2023-02-08  73546000  \n",
       "...              ...  \n",
       "2023-05-04   3879700  \n",
       "2023-05-04  19780600  \n",
       "2023-05-05  28181200  \n",
       "2023-05-05   3988600  \n",
       "2023-05-05  20705300  \n",
       "\n",
       "[247 rows x 7 columns]"
      ]
     },
     "execution_count": 2,
     "metadata": {},
     "output_type": "execute_result"
    }
   ],
   "source": [
    "# Load the CSV file\n",
    "df = pd.read_csv(\"./Stock_Data/clean_stocks.csv\")\n",
    "df['Date'] = pd.to_datetime(df['Date'], errors='coerce')\n",
    "df.set_index('Date', inplace=True)\n",
    "df.dropna(inplace=True)  # Remove any initial NaNs\n",
    "df"
   ]
  },
  {
   "cell_type": "markdown",
   "id": "e711733b",
   "metadata": {},
   "source": [
    "# Candlestick Chart"
   ]
  },
  {
   "cell_type": "code",
   "execution_count": 3,
   "id": "8d230eb5",
   "metadata": {},
   "outputs": [],
   "source": [
    "def candlestick_plot(df, title='Candlestick Chart'):\n",
    "    \"\"\"Creates a candlestick plot using matplotlib.\"\"\"\n",
    "    fig, ax = plt.subplots(figsize=(12, 6))\n",
    "\n",
    "    for date, row in df.iterrows():\n",
    "        open_price = row['Open']\n",
    "        high_price = row['High']\n",
    "        low_price = row['Low']\n",
    "        close_price = row['Close']\n",
    "\n",
    "        # Candlestick body\n",
    "        if close_price >= open_price:\n",
    "            color = 'green'\n",
    "            body_height = close_price - open_price\n",
    "            body_bottom = open_price\n",
    "        else:\n",
    "            color = 'red'\n",
    "            body_height = open_price - close_price\n",
    "            body_bottom = close_price\n",
    "\n",
    "        ax.add_patch(plt.Rectangle((mdates.date2num(date) - 0.4, body_bottom), 0.8, body_height, facecolor=color, edgecolor='black'))\n",
    "\n",
    "        # High-low lines (wicks)\n",
    "        ax.add_line(plt.Line2D([mdates.date2num(date), mdates.date2num(date)], [low_price, high_price], color='black'))\n",
    "\n",
    "    ax.xaxis_date()\n",
    "    ax.xaxis.set_major_formatter(mdates.DateFormatter('%Y-%m-%d'))\n",
    "    plt.xticks(rotation=45)\n",
    "    plt.title(title)\n",
    "    plt.xlabel('Date')\n",
    "    plt.ylabel('Price')\n",
    "    plt.grid(True)\n",
    "    plt.show()"
   ]
  },
  {
   "cell_type": "code",
   "execution_count": 4,
   "id": "32a2f590",
   "metadata": {},
   "outputs": [
    {
     "data": {
      "image/png": "[encoded data removed]",
      "text/plain": [
       "<Figure size 1200x600 with 1 Axes>"
      ]
     },
     "metadata": {},
     "output_type": "display_data"
    }
   ],
   "source": [
    "candlestick_plot(df) #This is where the mplfinance plot would be."
   ]
  },
  {
   "cell_type": "markdown",
   "id": "66fc2c7e",
   "metadata": {},
   "source": [
    "# Candlestick Chart"
   ]
  },
  {
   "cell_type": "code",
   "execution_count": 5,
   "id": "bf0cf652",
   "metadata": {},
   "outputs": [
    {
     "data": {
      "application/vnd.plotly.v1+json": {
       "config": {
        "plotlyServerURL": "https://plot.ly"
       },
       "data": [
        {
         "close": [
          154.64999389648438,
          108.04000091552734,
          267.5599975585937,
          362.9500122070313,
          100,
          151.9199981689453,
          366.8299865722656,
          266.7300109863281,
          362.5,
          95.45999908447266,
          263.6199951171875,
          150.8699951171875,
          94.86000061035156,
          347.3599853515625,
          151.00999450683594,
          263.1000061035156,
          95,
          358.57000732421875,
          271.32000732421875,
          153.85000610351562,
          153.1999969482422,
          94.9499969482422,
          272.1700134277344,
          359.9599914550781,
          155.3300018310547,
          361.4200134277344,
          269.32000732421875,
          97.0999984741211,
          95.77999877929688,
          350.7099914550781,
          262.1499938964844,
          153.7100067138672,
          94.58999633789062,
          152.5500030517578,
          258.0599975585937,
          347.9599914550781,
          337.5,
          148.47999572753906,
          252.6699981689453,
          92.0500030517578,
          148.91000366210938,
          334.8800048828125,
          251.509994506836,
          91.8000030517578,
          149.39999389648438,
          91.06999969482422,
          254.7700042724609,
          323.6499938964844,
          146.7100067138672,
          249.22000122070312,
          317.1499938964844,
          89.3499984741211,
          323.0299987792969,
          250.16000366210932,
          90.0999984741211,
          147.9199981689453,
          249.4199981689453,
          90.3000030517578,
          322.1300048828125,
          147.41000366210938,
          246.2700042724609,
          313.4800109863281,
          145.30999755859375,
          90.51000213623048,
          311.8800048828125,
          251.1100006103516,
          145.91000366210938,
          92.30999755859376,
          255.2899932861328,
          315.17999267578125,
          151.02999877929688,
          94.0199966430664,
          95.58000183105467,
          312.0299987792969,
          153.8300018310547,
          256.8699951171875,
          308.4700012207031,
          151.60000610351562,
          254.1499938964844,
          94.16999816894533,
          94.6500015258789,
          311.7900085449219,
          152.8699951171875,
          253.6999969482422,
          297.7799987792969,
          252.32000732421875,
          150.58999633789062,
          92.66000366210938,
          292.760009765625,
          148.5,
          91.01000213623048,
          248.58999633789065,
          91.66000366210938,
          150.47000122070312,
          253.9199981689453,
          293.510009765625,
          94.25,
          152.58999633789062,
          260.7900085449219,
          294.94000244140625,
          152.99000549316406,
          96.5500030517578,
          265.44000244140625,
          303.7900085449219,
          310.0599975585937,
          101.06999969482422,
          276.20001220703125,
          155.85000610351562,
          279.42999267578125,
          102.45999908447266,
          303.5,
          155,
          305.1300048828125,
          157.39999389648438,
          101.93000030517578,
          272.2300109863281,
          159.27999877929688,
          305.7900085449219,
          273.7799987792969,
          105.83999633789062,
          104.22000122070312,
          157.8300018310547,
          293.8999938964844,
          272.2900085449219,
          320.3699951171875,
          158.92999267578125,
          277.6600036621094,
          106.26000213623048,
          106.05999755859376,
          280.57000732421875,
          328.3900146484375,
          160.25,
          103.05999755859376,
          276.3800048828125,
          327.6600036621094,
          158.27999877929688,
          275.2300109863281,
          157.64999389648438,
          323.5199890136719,
          101.36000061035156,
          160.77000427246094,
          332.0299987792969,
          101.9000015258789,
          280.510009765625,
          162.36000061035156,
          101.31999969482422,
          338.42999267578125,
          284.04998779296875,
          288.29998779296875,
          345.4800109863281,
          164.89999389648438,
          104,
          348.2799987792969,
          166.1699981689453,
          104.91000366210938,
          287.2300109863281,
          287.17999267578125,
          346.75,
          165.6300048828125,
          105.12000274658205,
          342.3500061035156,
          284.3399963378906,
          104.9499969482422,
          163.75999450683594,
          108.9000015258789,
          164.66000366210938,
          339.3299865722656,
          291.6000061035156,
          338.989990234375,
          106.9499969482422,
          289.3900146484375,
          162.02999877929688,
          160.8000030517578,
          106.12000274658205,
          282.8299865722656,
          338.2099914550781,
          160.10000610351562,
          331.0299987792969,
          283.489990234375,
          105.22000122070312,
          108.19000244140624,
          165.55999755859375,
          346.19000244140625,
          289.8399963378906,
          165.2100067138672,
          286.1400146484375,
          109.45999908447266,
          338.6300048828125,
          106.41999816894533,
          332.7200012207031,
          165.22999572753906,
          288.79998779296875,
          333.70001220703125,
          166.47000122070312,
          105.12000274658205,
          288.3699951171875,
          167.6300048828125,
          105.0199966430664,
          288.45001220703125,
          323.1199951171875,
          286.1099853515625,
          166.64999389648438,
          325.3500061035156,
          105.9000015258789,
          285.760009765625,
          327.9800109863281,
          165.02000427246094,
          105.91000366210938,
          106.77999877929688,
          281.7699890136719,
          165.3300018310547,
          329.0199890136719,
          322.54998779296875,
          104.61000061035156,
          163.77000427246094,
          275.4200134277344,
          321.1499938964844,
          104.4499969482422,
          163.75999450683594,
          295.3699951171875,
          304.8299865722656,
          325.8500061035156,
          108.37000274658205,
          168.41000366210938,
          307.260009765625,
          169.67999267578125,
          329.92999267578125,
          108.22000122070312,
          305.5599975585937,
          107.70999908447266,
          169.58999633789062,
          324.1199951171875,
          105.9800033569336,
          168.5399932861328,
          317.54998779296875,
          305.4100036621094,
          304.3999938964844,
          167.4499969482422,
          106.12000274658205,
          319.29998779296875,
          305.4100036621094,
          165.7899932861328,
          320.7799987792969,
          105.20999908447266,
          310.6499938964844,
          322.760009765625,
          106.21499633789062
         ],
         "high": [
          155.22999572753906,
          108.66999816894533,
          268.7699890136719,
          364.1799926757813,
          103.58000183105467,
          154.5800018310547,
          368.1900024414063,
          276.760009765625,
          373.8299865722656,
          100.61000061035156,
          273.9800109863281,
          154.3300018310547,
          97.0199966430664,
          362.1400146484375,
          151.33999633789062,
          264.0899963378906,
          95.3499984741211,
          359.70001220703125,
          274.6000061035156,
          154.25999450683594,
          153.77000427246094,
          95.1750030517578,
          274.9700012207031,
          363.75,
          155.5,
          362.8800048828125,
          270.7300109863281,
          97.33999633789062,
          97.87999725341795,
          361.5,
          266.739990234375,
          156.3300018310547,
          95.75,
          153,
          260.0899963378906,
          349,
          344.1300048828125,
          151.3000030517578,
          255.4900054931641,
          93.41500091552734,
          149.9499969482422,
          341.9100036621094,
          254.33999633789065,
          92.36000061035156,
          150.33999633789062,
          92.12999725341795,
          256.8399963378906,
          331.2799987792969,
          147.19000244140625,
          251,
          321.5,
          90.12999725341795,
          330,
          252.82000732421875,
          90.4499969482422,
          149.1699981689453,
          251.4900054931641,
          91.4499969482422,
          327.6199951171875,
          149.0800018310547,
          250.92999267578125,
          326.6000061035156,
          147.22999572753906,
          91.1999969482422,
          315.57000732421875,
          251.3999938964844,
          146.7100067138672,
          92.4800033569336,
          255.6199951171875,
          317.489990234375,
          151.11000061035156,
          94.11000061035156,
          96.3000030517578,
          323.29998779296875,
          156.3000030517578,
          260.1199951171875,
          314.29998779296875,
          154.02999877929688,
          257.69000244140625,
          96.08999633789062,
          96.23999786376952,
          311.8299865722656,
          153.47000122070312,
          254.5399932861328,
          312.510009765625,
          259.5599975585937,
          154.5399932861328,
          95.91999816894533,
          298.7900085449219,
          150.94000244140625,
          93.18000030517578,
          252.7899932861328,
          93.08000183105467,
          153.13999938964844,
          257.9100036621094,
          299.239990234375,
          94.83000183105467,
          153.39999389648438,
          261.07000732421875,
          297.45001220703125,
          153.25,
          97.25,
          266.4800109863281,
          306.3099975585937,
          316.6000061035156,
          101.97000122070312,
          276.5599975585937,
          156.4600067138672,
          283.3299865722656,
          103.48999786376952,
          310.760009765625,
          156.74000549316406,
          307.5,
          157.82000732421875,
          102.58000183105467,
          277.4800109863281,
          159.39999389648438,
          307.9200134277344,
          275,
          105.95999908447266,
          107.51000213623048,
          162.13999938964844,
          306.45001220703125,
          281.0400085449219,
          322.7799987792969,
          161.5500030517578,
          281.0599975585937,
          107.10099792480467,
          106.16000366210938,
          280.6300048828125,
          331.8299865722656,
          160.33999633789062,
          105.4000015258789,
          281.4599914550781,
          336.44000244140625,
          160.77000427246094,
          276.1400146484375,
          158.49000549316406,
          333.32000732421875,
          103,
          161.0500030517578,
          332.8500061035156,
          102.81999969482422,
          281.1400146484375,
          162.47000122070312,
          101.61000061035156,
          343.2900085449219,
          284.4599914550781,
          289.2699890136719,
          345.8399963378906,
          165,
          104.19000244140624,
          348.5799865722656,
          166.2899932861328,
          104.9499969482422,
          288.2699890136719,
          290.45001220703125,
          349.79998779296875,
          166.83999633789062,
          106.0999984741211,
          345.42999267578125,
          287.1499938964844,
          106.54000091552734,
          165.0500030517578,
          109.62999725341795,
          164.9600067138672,
          340.4800109863281,
          292.0799865722656,
          339.8800048828125,
          107.97000122070312,
          289.6000061035156,
          162.02999877929688,
          162.36000061035156,
          107.22000122070312,
          285.9800109863281,
          347.1400146484375,
          162.05999755859375,
          342.79998779296875,
          287.010009765625,
          107.58699798583984,
          108.26499938964844,
          165.8000030517578,
          346.42999267578125,
          289.8999938964844,
          166.32000732421875,
          288.4800109863281,
          109.58000183105467,
          344.8500061035156,
          106.70999908447266,
          338.3900146484375,
          165.38999938964844,
          291.6000061035156,
          337.19000244140625,
          167.41000366210938,
          107.0500030517578,
          291.760009765625,
          168.16000366210938,
          105.7249984741211,
          289.04998779296875,
          325.75,
          289.0299987792969,
          167.8699951171875,
          331.42999267578125,
          106.88800048828124,
          286.2699890136719,
          328.2900085449219,
          166.4499969482422,
          106.63999938964844,
          107.31999969482422,
          284.95001220703125,
          165.60000610351562,
          334.6600036621094,
          328.6600036621094,
          107.44000244140624,
          166.30999755859375,
          281.6000061035156,
          325.8999938964844,
          107.0199966430664,
          165.27999877929688,
          299.57000732421875,
          305.20001220703125,
          327.45001220703125,
          109.1500015258789,
          168.55999755859375,
          308.92999267578125,
          169.85000610351562,
          330.8099975585937,
          108.29000091552734,
          308.6000061035156,
          108.68000030517578,
          170.4499969482422,
          331.2300109863281,
          107.7300033569336,
          170.35000610351562,
          326.07000732421875,
          309.17999267578125,
          308.6099853515625,
          170.9199981689453,
          108.12999725341795,
          324.6199951171875,
          307.760009765625,
          167.0399932861328,
          323.6099853515625,
          106.3000030517578,
          311.9700012207031,
          324.1499938964844,
          106.44000244140624
         ],
         "low": [
          150.63999938964844,
          103.5479965209961,
          260.0799865722656,
          354.17999267578125,
          98.45500183105467,
          151.1699981689453,
          358.3099975585937,
          266.2099914550781,
          361.739990234375,
          93.86000061035156,
          262.79998779296875,
          150.4199981689453,
          94.52999877929688,
          347.1400146484375,
          149.22000122070312,
          260.6600036621094,
          94.0500030517578,
          344.25,
          267.1499938964844,
          150.9199981689453,
          150.86000061035156,
          92.6500015258789,
          269.2799987792969,
          353.3999938964844,
          152.8800048828125,
          354.239990234375,
          266.17999267578125,
          94.36000061035156,
          94.97000122070312,
          350.3099975585937,
          261.8999938964844,
          153.35000610351562,
          93.4499969482422,
          150.85000610351562,
          256,
          342.44000244140625,
          336.4200134277344,
          148.41000366210938,
          251.58999633789065,
          92,
          147.16000366210938,
          332.82000732421875,
          250.33999633789065,
          90.87000274658205,
          147.24000549316406,
          90.01000213623047,
          250.47999572753903,
          314.29998779296875,
          145.72000122070312,
          248.1000061035156,
          314.5199890136719,
          88.86000061035156,
          322.1199951171875,
          249.38999938964844,
          89.61000061035156,
          147.4499969482422,
          248.72999572753903,
          89.5199966430664,
          321.1700134277344,
          146.8300018310547,
          245.7899932861328,
          312.3599853515625,
          145.00999450683594,
          89.8499984741211,
          310.3800048828125,
          245.6100006103516,
          143.89999389648438,
          89.7699966430664,
          251.38999938964844,
          310.82000732421875,
          147.3300018310547,
          92.66000366210938,
          94.3000030517578,
          311.8399963378906,
          153.4600067138672,
          255.97999572753903,
          306.6199951171875,
          151.1300048828125,
          253.38999938964844,
          93.84400177001952,
          94.40499877929688,
          305.75,
          151.8300018310547,
          250.8099975585937,
          294.8800048828125,
          251.5800018310547,
          150.22999572753906,
          92.3550033569336,
          289,
          147.61000061035156,
          90.8000030517578,
          247.6000061035156,
          89.94000244140625,
          147.6999969482422,
          245.72999572753903,
          285.3299865722656,
          92.77999877929688,
          150.10000610351562,
          255.8600006103516,
          290.3099975585937,
          149.9199981689453,
          93.04000091552734,
          259.2099914550781,
          292.2799987792969,
          301.7099914550781,
          95.87000274658205,
          263.2799987792969,
          151.63999938964844,
          276.32000732421875,
          100.75,
          300,
          154.27999877929688,
          296,
          154.14999389648438,
          100.79000091552734,
          269.8500061035156,
          156.5399932861328,
          300.42999267578125,
          269.5199890136719,
          101.86000061035156,
          104.20999908447266,
          157.80999755859375,
          293.5400085449219,
          272.17999267578125,
          304.1400146484375,
          157.67999267578125,
          275.20001220703125,
          105.41000366210938,
          104.73999786376952,
          275.2799987792969,
          320.6300048828125,
          157.85000610351562,
          102.62999725341795,
          275.5199890136719,
          324.4100036621094,
          157.8699951171875,
          272.04998779296875,
          155.97999572753906,
          321.2799987792969,
          100.27999877929688,
          159.35000610351562,
          325.7300109863281,
          101.02999877929688,
          278.4100036621094,
          161.27000427246094,
          100.29000091552734,
          335.29998779296875,
          281.4800109863281,
          283,
          337.20001220703125,
          161.91000366210938,
          101.44000244140624,
          340.3999938964844,
          164.22000122070312,
          102.37999725341795,
          283.95001220703125,
          285.6700134277344,
          343.95001220703125,
          165.11000061035156,
          104.5999984741211,
          336.25,
          282.9200134277344,
          104.10199737548828,
          161.8000030517578,
          104.81500244140624,
          162,
          332.6300048828125,
          282.0299987792969,
          333.3599853515625,
          105.5999984741211,
          284.7099914550781,
          160.0800018310547,
          160.50999450683594,
          105.27999877929688,
          281.6400146484375,
          337.6400146484375,
          159.77999877929688,
          330.0400085449219,
          281.9599914550781,
          104.97000122070312,
          106.44000244140624,
          161.4199981689453,
          338.75,
          283.1700134277344,
          163.82000732421875,
          283.69000244140625,
          107.58999633789062,
          336.4100036621094,
          105.31999969482422,
          327.5,
          164.02999877929688,
          286.1600036621094,
          330.5,
          165.64999389648438,
          104.77999877929688,
          287.010009765625,
          165.5399932861328,
          103.8000030517578,
          284.5400085449219,
          316.1000061035156,
          285.0799865722656,
          165.55999755859375,
          318.3299865722656,
          104.63999938964844,
          283.0599975585937,
          319.5,
          164.49000549316406,
          105.48500061035156,
          105.36000061035156,
          278.7200012207031,
          163.88999938964844,
          326.75,
          321.1000061035156,
          104.55999755859376,
          163.72999572753906,
          275.3699951171875,
          320.4700012207031,
          103.2699966430664,
          162.8000030517578,
          292.7300109863281,
          295.25,
          317.44000244140625,
          104.41999816894533,
          165.19000244140625,
          303.3099975585937,
          167.8800048828125,
          324,
          106.04000091552734,
          305.1499938964844,
          107.5,
          168.63999938964844,
          318.0899963378906,
          104.5,
          167.5399932861328,
          315.6199951171875,
          303.9100036621094,
          304.0899963378906,
          167.16000366210938,
          105.62000274658205,
          315.8500061035156,
          303.3999938964844,
          164.30999755859375,
          317.95001220703125,
          104.6999969482422,
          304.2699890136719,
          319.44000244140625,
          104.73899841308594
         ],
         "open": [
          150.63999938964844,
          103.62999725341795,
          260.5299987792969,
          358.510009765625,
          102.69000244140624,
          153.8800048828125,
          360.0199890136719,
          273.20001220703125,
          372.4100036621094,
          100.54000091552734,
          273.79998779296875,
          153.77999877929688,
          95.73999786376952,
          359.1600036621094,
          149.4600067138672,
          261.5299987792969,
          95.01000213623048,
          349.5,
          267.6400146484375,
          150.9499969482422,
          152.1199951171875,
          94.66000366210938,
          272.6700134277344,
          357.54998779296875,
          153.11000061035156,
          356.6300048828125,
          268.32000732421875,
          94.73999786376952,
          95.54000091552734,
          355,
          264.0199890136719,
          153.50999450683594,
          95.06999969482422,
          152.35000610351562,
          259.3900146484375,
          347.9100036621094,
          342.8500061035156,
          150.1999969482422,
          254.47999572753903,
          93.23999786376952,
          148.8699951171875,
          337.5,
          254.08999633789065,
          91.93399810791016,
          150.08999633789062,
          92.12999725341795,
          255.5599975585937,
          331.2300109863281,
          147.11000061035156,
          249.9600067138672,
          319.29998779296875,
          89.62999725341797,
          323.8699951171875,
          252.4600067138672,
          90.08999633789062,
          147.7100067138672,
          249.07000732421875,
          89.54000091552734,
          323.70001220703125,
          147.0500030517578,
          250.759994506836,
          321.54998779296875,
          146.8300018310547,
          90.16000366210938,
          310.9599914550781,
          246.5500030517578,
          144.3800048828125,
          89.86000061035156,
          252.19000244140625,
          315.45001220703125,
          148.0399932861328,
          92.73999786376952,
          94.36000061035156,
          317,
          153.7899932861328,
          256.42999267578125,
          312.67999267578125,
          153.6999969482422,
          256.29998779296875,
          95.41999816894533,
          94.40499877929688,
          309.2900085449219,
          152.80999755859375,
          254.0399932861328,
          312.0799865722656,
          255.82000732421875,
          153.55999755859375,
          94.48999786376952,
          297.8999938964844,
          150.2100067138672,
          92.5,
          251.0800018310547,
          90.56500244140624,
          147.80999755859375,
          247.3999938964844,
          287.3399963378906,
          93.06999969482422,
          151.27999877929688,
          256.75,
          295.9700012207031,
          151.19000244140625,
          93.54000091552734,
          259.9800109863281,
          292.510009765625,
          304.75,
          96.56999969482422,
          265.2099914550781,
          152.16000366210938,
          278.260009765625,
          100.83999633789062,
          310.0599975585937,
          156.0800018310547,
          299.7900085449219,
          155.07000732421875,
          101.05999755859376,
          276.9800109863281,
          157.32000732421875,
          306.32000732421875,
          274.8800048828125,
          101.9800033569336,
          105.13999938964844,
          159.3000030517578,
          306.3099975585937,
          273.3999938964844,
          304.67999267578125,
          158.8300018310547,
          277.94000244140625,
          105.88999938964844,
          105.73999786376952,
          277.239990234375,
          320.6300048828125,
          158.86000061035156,
          105.31999969482422,
          280.5,
          327.54998779296875,
          159.94000244140625,
          275.7900085449219,
          157.97000122070312,
          326.0599975585937,
          103,
          159.3699951171875,
          326.2900085449219,
          102.72000122070312,
          278.9599914550781,
          161.52999877929688,
          101.44000244140624,
          340.2699890136719,
          284.2300109863281,
          283.7300109863281,
          340.04998779296875,
          162.44000244140625,
          101.70999908447266,
          341.8299865722656,
          164.27000427246094,
          102.66999816894533,
          286.5199890136719,
          287.2300109863281,
          348.489990234375,
          166.60000610351562,
          104.83999633789062,
          345.29998779296875,
          285.8500061035156,
          106.12000274658205,
          164.74000549316406,
          105.7699966430664,
          162.42999267578125,
          339.3399963378906,
          283.2099914550781,
          335.2699890136719,
          107.38999938964844,
          289.2099914550781,
          161.4199981689453,
          162.35000610351562,
          106.91999816894533,
          285.75,
          343.45001220703125,
          161.22000122070312,
          340.8099975585937,
          284.7900085449219,
          107.38999938964844,
          106.47000122070312,
          161.6300048828125,
          339.989990234375,
          283.5899963378906,
          164.58999633789062,
          287,
          107.69000244140624,
          342.94000244140625,
          105.43000030517578,
          338,
          165.08999633789062,
          289.92999267578125,
          335,
          166.10000610351562,
          107,
          291.57000732421875,
          165.8000030517578,
          104.21499633789062,
          285.989990234375,
          324.2099914550781,
          285.25,
          166.08999633789062,
          320.3900146484375,
          104.6500015258789,
          285.010009765625,
          323,
          165.0500030517578,
          106.08999633789062,
          106.0500030517578,
          282.0899963378906,
          165,
          330.20001220703125,
          328.5,
          106.61000061035156,
          165.19000244140625,
          279.510009765625,
          321.3599853515625,
          105.55999755859376,
          163.05999755859375,
          296.70001220703125,
          295.9700012207031,
          324.29998779296875,
          105.2300033569336,
          165.19000244140625,
          304.010009765625,
          168.49000549316406,
          325.239990234375,
          107.8000030517578,
          306.9700012207031,
          107.72000122070312,
          169.27999877929688,
          329.44000244140625,
          107.66000366210938,
          170.08999633789062,
          325,
          307.760009765625,
          306.6199951171875,
          169.5,
          106.22000122070312,
          317.54998779296875,
          306.239990234375,
          164.88999938964844,
          319.010009765625,
          106.16000366210938,
          305.7200012207031,
          323.6099853515625,
          105.31999969482422
         ],
         "type": "candlestick",
         "x": [
          "2023-02-07T00:00:00",
          "2023-02-07T00:00:00",
          "2023-02-07T00:00:00",
          "2023-02-07T00:00:00",
          "2023-02-08T00:00:00",
          "2023-02-08T00:00:00",
          "2023-02-08T00:00:00",
          "2023-02-08T00:00:00",
          "2023-02-09T00:00:00",
          "2023-02-09T00:00:00",
          "2023-02-09T00:00:00",
          "2023-02-09T00:00:00",
          "2023-02-10T00:00:00",
          "2023-02-10T00:00:00",
          "2023-02-10T00:00:00",
          "2023-02-10T00:00:00",
          "2023-02-13T00:00:00",
          "2023-02-13T00:00:00",
          "2023-02-13T00:00:00",
          "2023-02-13T00:00:00",
          "2023-02-14T00:00:00",
          "2023-02-14T00:00:00",
          "2023-02-14T00:00:00",
          "2023-02-14T00:00:00",
          "2023-02-15T00:00:00",
          "2023-02-15T00:00:00",
          "2023-02-15T00:00:00",
          "2023-02-15T00:00:00",
          "2023-02-16T00:00:00",
          "2023-02-16T00:00:00",
          "2023-02-16T00:00:00",
          "2023-02-16T00:00:00",
          "2023-02-17T00:00:00",
          "2023-02-17T00:00:00",
          "2023-02-17T00:00:00",
          "2023-02-17T00:00:00",
          "2023-02-21T00:00:00",
          "2023-02-21T00:00:00",
          "2023-02-21T00:00:00",
          "2023-02-21T00:00:00",
          "2023-02-22T00:00:00",
          "2023-02-22T00:00:00",
          "2023-02-22T00:00:00",
          "2023-02-22T00:00:00",
          "2023-02-23T00:00:00",
          "2023-02-23T00:00:00",
          "2023-02-23T00:00:00",
          "2023-02-23T00:00:00",
          "2023-02-24T00:00:00",
          "2023-02-24T00:00:00",
          "2023-02-24T00:00:00",
          "2023-02-24T00:00:00",
          "2023-02-27T00:00:00",
          "2023-02-27T00:00:00",
          "2023-02-27T00:00:00",
          "2023-02-27T00:00:00",
          "2023-02-28T00:00:00",
          "2023-02-28T00:00:00",
          "2023-02-28T00:00:00",
          "2023-02-28T00:00:00",
          "2023-03-01T00:00:00",
          "2023-03-01T00:00:00",
          "2023-03-01T00:00:00",
          "2023-03-01T00:00:00",
          "2023-03-02T00:00:00",
          "2023-03-02T00:00:00",
          "2023-03-02T00:00:00",
          "2023-03-02T00:00:00",
          "2023-03-03T00:00:00",
          "2023-03-03T00:00:00",
          "2023-03-03T00:00:00",
          "2023-03-03T00:00:00",
          "2023-03-06T00:00:00",
          "2023-03-06T00:00:00",
          "2023-03-06T00:00:00",
          "2023-03-06T00:00:00",
          "2023-03-07T00:00:00",
          "2023-03-07T00:00:00",
          "2023-03-07T00:00:00",
          "2023-03-07T00:00:00",
          "2023-03-08T00:00:00",
          "2023-03-08T00:00:00",
          "2023-03-08T00:00:00",
          "2023-03-08T00:00:00",
          "2023-03-09T00:00:00",
          "2023-03-09T00:00:00",
          "2023-03-09T00:00:00",
          "2023-03-09T00:00:00",
          "2023-03-10T00:00:00",
          "2023-03-10T00:00:00",
          "2023-03-10T00:00:00",
          "2023-03-10T00:00:00",
          "2023-03-13T00:00:00",
          "2023-03-13T00:00:00",
          "2023-03-13T00:00:00",
          "2023-03-13T00:00:00",
          "2023-03-14T00:00:00",
          "2023-03-14T00:00:00",
          "2023-03-14T00:00:00",
          "2023-03-14T00:00:00",
          "2023-03-15T00:00:00",
          "2023-03-15T00:00:00",
          "2023-03-15T00:00:00",
          "2023-03-15T00:00:00",
          "2023-03-16T00:00:00",
          "2023-03-16T00:00:00",
          "2023-03-16T00:00:00",
          "2023-03-16T00:00:00",
          "2023-03-17T00:00:00",
          "2023-03-17T00:00:00",
          "2023-03-17T00:00:00",
          "2023-03-17T00:00:00",
          "2023-03-20T00:00:00",
          "2023-03-20T00:00:00",
          "2023-03-20T00:00:00",
          "2023-03-20T00:00:00",
          "2023-03-21T00:00:00",
          "2023-03-21T00:00:00",
          "2023-03-21T00:00:00",
          "2023-03-21T00:00:00",
          "2023-03-22T00:00:00",
          "2023-03-22T00:00:00",
          "2023-03-22T00:00:00",
          "2023-03-22T00:00:00",
          "2023-03-23T00:00:00",
          "2023-03-23T00:00:00",
          "2023-03-23T00:00:00",
          "2023-03-23T00:00:00",
          "2023-03-24T00:00:00",
          "2023-03-24T00:00:00",
          "2023-03-24T00:00:00",
          "2023-03-24T00:00:00",
          "2023-03-27T00:00:00",
          "2023-03-27T00:00:00",
          "2023-03-27T00:00:00",
          "2023-03-27T00:00:00",
          "2023-03-28T00:00:00",
          "2023-03-28T00:00:00",
          "2023-03-28T00:00:00",
          "2023-03-28T00:00:00",
          "2023-03-29T00:00:00",
          "2023-03-29T00:00:00",
          "2023-03-29T00:00:00",
          "2023-03-29T00:00:00",
          "2023-03-30T00:00:00",
          "2023-03-30T00:00:00",
          "2023-03-30T00:00:00",
          "2023-03-30T00:00:00",
          "2023-03-31T00:00:00",
          "2023-03-31T00:00:00",
          "2023-03-31T00:00:00",
          "2023-03-31T00:00:00",
          "2023-04-03T00:00:00",
          "2023-04-03T00:00:00",
          "2023-04-03T00:00:00",
          "2023-04-03T00:00:00",
          "2023-04-04T00:00:00",
          "2023-04-04T00:00:00",
          "2023-04-04T00:00:00",
          "2023-04-04T00:00:00",
          "2023-04-05T00:00:00",
          "2023-04-05T00:00:00",
          "2023-04-05T00:00:00",
          "2023-04-05T00:00:00",
          "2023-04-06T00:00:00",
          "2023-04-06T00:00:00",
          "2023-04-06T00:00:00",
          "2023-04-06T00:00:00",
          "2023-04-10T00:00:00",
          "2023-04-10T00:00:00",
          "2023-04-10T00:00:00",
          "2023-04-10T00:00:00",
          "2023-04-11T00:00:00",
          "2023-04-11T00:00:00",
          "2023-04-11T00:00:00",
          "2023-04-11T00:00:00",
          "2023-04-12T00:00:00",
          "2023-04-12T00:00:00",
          "2023-04-12T00:00:00",
          "2023-04-12T00:00:00",
          "2023-04-13T00:00:00",
          "2023-04-13T00:00:00",
          "2023-04-13T00:00:00",
          "2023-04-13T00:00:00",
          "2023-04-14T00:00:00",
          "2023-04-14T00:00:00",
          "2023-04-14T00:00:00",
          "2023-04-14T00:00:00",
          "2023-04-17T00:00:00",
          "2023-04-17T00:00:00",
          "2023-04-17T00:00:00",
          "2023-04-17T00:00:00",
          "2023-04-18T00:00:00",
          "2023-04-18T00:00:00",
          "2023-04-18T00:00:00",
          "2023-04-18T00:00:00",
          "2023-04-19T00:00:00",
          "2023-04-19T00:00:00",
          "2023-04-19T00:00:00",
          "2023-04-19T00:00:00",
          "2023-04-20T00:00:00",
          "2023-04-20T00:00:00",
          "2023-04-20T00:00:00",
          "2023-04-20T00:00:00",
          "2023-04-21T00:00:00",
          "2023-04-21T00:00:00",
          "2023-04-21T00:00:00",
          "2023-04-21T00:00:00",
          "2023-04-24T00:00:00",
          "2023-04-24T00:00:00",
          "2023-04-24T00:00:00",
          "2023-04-24T00:00:00",
          "2023-04-25T00:00:00",
          "2023-04-25T00:00:00",
          "2023-04-25T00:00:00",
          "2023-04-25T00:00:00",
          "2023-04-26T00:00:00",
          "2023-04-26T00:00:00",
          "2023-04-26T00:00:00",
          "2023-04-26T00:00:00",
          "2023-04-27T00:00:00",
          "2023-04-27T00:00:00",
          "2023-04-27T00:00:00",
          "2023-04-27T00:00:00",
          "2023-04-28T00:00:00",
          "2023-04-28T00:00:00",
          "2023-04-28T00:00:00",
          "2023-04-28T00:00:00",
          "2023-05-01T00:00:00",
          "2023-05-01T00:00:00",
          "2023-05-01T00:00:00",
          "2023-05-01T00:00:00",
          "2023-05-02T00:00:00",
          "2023-05-02T00:00:00",
          "2023-05-02T00:00:00",
          "2023-05-02T00:00:00",
          "2023-05-03T00:00:00",
          "2023-05-03T00:00:00",
          "2023-05-03T00:00:00",
          "2023-05-03T00:00:00",
          "2023-05-04T00:00:00",
          "2023-05-04T00:00:00",
          "2023-05-04T00:00:00",
          "2023-05-04T00:00:00",
          "2023-05-05T00:00:00",
          "2023-05-05T00:00:00",
          "2023-05-05T00:00:00"
         ]
        }
       ],
       "layout": {
        "template": {
         "data": {
          "bar": [
           {
            "error_x": {
             "color": "#2a3f5f"
            },
            "error_y": {
             "color": "#2a3f5f"
            },
            "marker": {
             "line": {
              "color": "#E5ECF6",
              "width": 0.5
             },
             "pattern": {
              "fillmode": "overlay",
              "size": 10,
              "solidity": 0.2
             }
            },
            "type": "bar"
           }
          ],
          "barpolar": [
           {
            "marker": {
             "line": {
              "color": "#E5ECF6",
              "width": 0.5
             },
             "pattern": {
              "fillmode": "overlay",
              "size": 10,
              "solidity": 0.2
             }
            },
            "type": "barpolar"
           }
          ],
          "carpet": [
           {
            "aaxis": {
             "endlinecolor": "#2a3f5f",
             "gridcolor": "white",
             "linecolor": "white",
             "minorgridcolor": "white",
             "startlinecolor": "#2a3f5f"
            },
            "baxis": {
             "endlinecolor": "#2a3f5f",
             "gridcolor": "white",
             "linecolor": "white",
             "minorgridcolor": "white",
             "startlinecolor": "#2a3f5f"
            },
            "type": "carpet"
           }
          ],
          "choropleth": [
           {
            "colorbar": {
             "outlinewidth": 0,
             "ticks": ""
            },
            "type": "choropleth"
           }
          ],
          "contour": [
           {
            "colorbar": {
             "outlinewidth": 0,
             "ticks": ""
            },
            "colorscale": [
             [
              0,
              "#0d0887"
             ],
             [
              0.1111111111111111,
              "#46039f"
             ],
             [
              0.2222222222222222,
              "#7201a8"
             ],
             [
              0.3333333333333333,
              "#9c179e"
             ],
             [
              0.4444444444444444,
              "#bd3786"
             ],
             [
              0.5555555555555556,
              "#d8576b"
             ],
             [
              0.6666666666666666,
              "#ed7953"
             ],
             [
              0.7777777777777778,
              "#fb9f3a"
             ],
             [
              0.8888888888888888,
              "#fdca26"
             ],
             [
              1,
              "#f0f921"
             ]
            ],
            "type": "contour"
           }
          ],
          "contourcarpet": [
           {
            "colorbar": {
             "outlinewidth": 0,
             "ticks": ""
            },
            "type": "contourcarpet"
           }
          ],
          "heatmap": [
           {
            "colorbar": {
             "outlinewidth": 0,
             "ticks": ""
            },
            "colorscale": [
             [
              0,
              "#0d0887"
             ],
             [
              0.1111111111111111,
              "#46039f"
             ],
             [
              0.2222222222222222,
              "#7201a8"
             ],
             [
              0.3333333333333333,
              "#9c179e"
             ],
             [
              0.4444444444444444,
              "#bd3786"
             ],
             [
              0.5555555555555556,
              "#d8576b"
             ],
             [
              0.6666666666666666,
              "#ed7953"
             ],
             [
              0.7777777777777778,
              "#fb9f3a"
             ],
             [
              0.8888888888888888,
              "#fdca26"
             ],
             [
              1,
              "#f0f921"
             ]
            ],
            "type": "heatmap"
           }
          ],
          "heatmapgl": [
           {
            "colorbar": {
             "outlinewidth": 0,
             "ticks": ""
            },
            "colorscale": [
             [
              0,
              "#0d0887"
             ],
             [
              0.1111111111111111,
              "#46039f"
             ],
             [
              0.2222222222222222,
              "#7201a8"
             ],
             [
              0.3333333333333333,
              "#9c179e"
             ],
             [
              0.4444444444444444,
              "#bd3786"
             ],
             [
              0.5555555555555556,
              "#d8576b"
             ],
             [
              0.6666666666666666,
              "#ed7953"
             ],
             [
              0.7777777777777778,
              "#fb9f3a"
             ],
             [
              0.8888888888888888,
              "#fdca26"
             ],
             [
              1,
              "#f0f921"
             ]
            ],
            "type": "heatmapgl"
           }
          ],
          "histogram": [
           {
            "marker": {
             "pattern": {
              "fillmode": "overlay",
              "size": 10,
              "solidity": 0.2
             }
            },
            "type": "histogram"
           }
          ],
          "histogram2d": [
           {
            "colorbar": {
             "outlinewidth": 0,
             "ticks": ""
            },
            "colorscale": [
             [
              0,
              "#0d0887"
             ],
             [
              0.1111111111111111,
              "#46039f"
             ],
             [
              0.2222222222222222,
              "#7201a8"
             ],
             [
              0.3333333333333333,
              "#9c179e"
             ],
             [
              0.4444444444444444,
              "#bd3786"
             ],
             [
              0.5555555555555556,
              "#d8576b"
             ],
             [
              0.6666666666666666,
              "#ed7953"
             ],
             [
              0.7777777777777778,
              "#fb9f3a"
             ],
             [
              0.8888888888888888,
              "#fdca26"
             ],
             [
              1,
              "#f0f921"
             ]
            ],
            "type": "histogram2d"
           }
          ],
          "histogram2dcontour": [
           {
            "colorbar": {
             "outlinewidth": 0,
             "ticks": ""
            },
            "colorscale": [
             [
              0,
              "#0d0887"
             ],
             [
              0.1111111111111111,
              "#46039f"
             ],
             [
              0.2222222222222222,
              "#7201a8"
             ],
             [
              0.3333333333333333,
              "#9c179e"
             ],
             [
              0.4444444444444444,
              "#bd3786"
             ],
             [
              0.5555555555555556,
              "#d8576b"
             ],
             [
              0.6666666666666666,
              "#ed7953"
             ],
             [
              0.7777777777777778,
              "#fb9f3a"
             ],
             [
              0.8888888888888888,
              "#fdca26"
             ],
             [
              1,
              "#f0f921"
             ]
            ],
            "type": "histogram2dcontour"
           }
          ],
          "mesh3d": [
           {
            "colorbar": {
             "outlinewidth": 0,
             "ticks": ""
            },
            "type": "mesh3d"
           }
          ],
          "parcoords": [
           {
            "line": {
             "colorbar": {
              "outlinewidth": 0,
              "ticks": ""
             }
            },
            "type": "parcoords"
           }
          ],
          "pie": [
           {
            "automargin": true,
            "type": "pie"
           }
          ],
          "scatter": [
           {
            "fillpattern": {
             "fillmode": "overlay",
             "size": 10,
             "solidity": 0.2
            },
            "type": "scatter"
           }
          ],
          "scatter3d": [
           {
            "line": {
             "colorbar": {
              "outlinewidth": 0,
              "ticks": ""
             }
            },
            "marker": {
             "colorbar": {
              "outlinewidth": 0,
              "ticks": ""
             }
            },
            "type": "scatter3d"
           }
          ],
          "scattercarpet": [
           {
            "marker": {
             "colorbar": {
              "outlinewidth": 0,
              "ticks": ""
             }
            },
            "type": "scattercarpet"
           }
          ],
          "scattergeo": [
           {
            "marker": {
             "colorbar": {
              "outlinewidth": 0,
              "ticks": ""
             }
            },
            "type": "scattergeo"
           }
          ],
          "scattergl": [
           {
            "marker": {
             "colorbar": {
              "outlinewidth": 0,
              "ticks": ""
             }
            },
            "type": "scattergl"
           }
          ],
          "scattermapbox": [
           {
            "marker": {
             "colorbar": {
              "outlinewidth": 0,
              "ticks": ""
             }
            },
            "type": "scattermapbox"
           }
          ],
          "scatterpolar": [
           {
            "marker": {
             "colorbar": {
              "outlinewidth": 0,
              "ticks": ""
             }
            },
            "type": "scatterpolar"
           }
          ],
          "scatterpolargl": [
           {
            "marker": {
             "colorbar": {
              "outlinewidth": 0,
              "ticks": ""
             }
            },
            "type": "scatterpolargl"
           }
          ],
          "scatterternary": [
           {
            "marker": {
             "colorbar": {
              "outlinewidth": 0,
              "ticks": ""
             }
            },
            "type": "scatterternary"
           }
          ],
          "surface": [
           {
            "colorbar": {
             "outlinewidth": 0,
             "ticks": ""
            },
            "colorscale": [
             [
              0,
              "#0d0887"
             ],
             [
              0.1111111111111111,
              "#46039f"
             ],
             [
              0.2222222222222222,
              "#7201a8"
             ],
             [
              0.3333333333333333,
              "#9c179e"
             ],
             [
              0.4444444444444444,
              "#bd3786"
             ],
             [
              0.5555555555555556,
              "#d8576b"
             ],
             [
              0.6666666666666666,
              "#ed7953"
             ],
             [
              0.7777777777777778,
              "#fb9f3a"
             ],
             [
              0.8888888888888888,
              "#fdca26"
             ],
             [
              1,
              "#f0f921"
             ]
            ],
            "type": "surface"
           }
          ],
          "table": [
           {
            "cells": {
             "fill": {
              "color": "#EBF0F8"
             },
             "line": {
              "color": "white"
             }
            },
            "header": {
             "fill": {
              "color": "#C8D4E3"
             },
             "line": {
              "color": "white"
             }
            },
            "type": "table"
           }
          ]
         },
         "layout": {
          "annotationdefaults": {
           "arrowcolor": "#2a3f5f",
           "arrowhead": 0,
           "arrowwidth": 1
          },
          "autotypenumbers": "strict",
          "coloraxis": {
           "colorbar": {
            "outlinewidth": 0,
            "ticks": ""
           }
          },
          "colorscale": {
           "diverging": [
            [
             0,
             "#8e0152"
            ],
            [
             0.1,
             "#c51b7d"
            ],
            [
             0.2,
             "#de77ae"
            ],
            [
             0.3,
             "#f1b6da"
            ],
            [
             0.4,
             "#fde0ef"
            ],
            [
             0.5,
             "#f7f7f7"
            ],
            [
             0.6,
             "#e6f5d0"
            ],
            [
             0.7,
             "#b8e186"
            ],
            [
             0.8,
             "#7fbc41"
            ],
            [
             0.9,
             "#4d9221"
            ],
            [
             1,
             "#276419"
            ]
           ],
           "sequential": [
            [
             0,
             "#0d0887"
            ],
            [
             0.1111111111111111,
             "#46039f"
            ],
            [
             0.2222222222222222,
             "#7201a8"
            ],
            [
             0.3333333333333333,
             "#9c179e"
            ],
            [
             0.4444444444444444,
             "#bd3786"
            ],
            [
             0.5555555555555556,
             "#d8576b"
            ],
            [
             0.6666666666666666,
             "#ed7953"
            ],
            [
             0.7777777777777778,
             "#fb9f3a"
            ],
            [
             0.8888888888888888,
             "#fdca26"
            ],
            [
             1,
             "#f0f921"
            ]
           ],
           "sequentialminus": [
            [
             0,
             "#0d0887"
            ],
            [
             0.1111111111111111,
             "#46039f"
            ],
            [
             0.2222222222222222,
             "#7201a8"
            ],
            [
             0.3333333333333333,
             "#9c179e"
            ],
            [
             0.4444444444444444,
             "#bd3786"
            ],
            [
             0.5555555555555556,
             "#d8576b"
            ],
            [
             0.6666666666666666,
             "#ed7953"
            ],
            [
             0.7777777777777778,
             "#fb9f3a"
            ],
            [
             0.8888888888888888,
             "#fdca26"
            ],
            [
             1,
             "#f0f921"
            ]
           ]
          },
          "colorway": [
           "#636efa",
           "#EF553B",
           "#00cc96",
           "#ab63fa",
           "#FFA15A",
           "#19d3f3",
           "#FF6692",
           "#B6E880",
           "#FF97FF",
           "#FECB52"
          ],
          "font": {
           "color": "#2a3f5f"
          },
          "geo": {
           "bgcolor": "white",
           "lakecolor": "white",
           "landcolor": "#E5ECF6",
           "showlakes": true,
           "showland": true,
           "subunitcolor": "white"
          },
          "hoverlabel": {
           "align": "left"
          },
          "hovermode": "closest",
          "mapbox": {
           "style": "light"
          },
          "paper_bgcolor": "white",
          "plot_bgcolor": "#E5ECF6",
          "polar": {
           "angularaxis": {
            "gridcolor": "white",
            "linecolor": "white",
            "ticks": ""
           },
           "bgcolor": "#E5ECF6",
           "radialaxis": {
            "gridcolor": "white",
            "linecolor": "white",
            "ticks": ""
           }
          },
          "scene": {
           "xaxis": {
            "backgroundcolor": "#E5ECF6",
            "gridcolor": "white",
            "gridwidth": 2,
            "linecolor": "white",
            "showbackground": true,
            "ticks": "",
            "zerolinecolor": "white"
           },
           "yaxis": {
            "backgroundcolor": "#E5ECF6",
            "gridcolor": "white",
            "gridwidth": 2,
            "linecolor": "white",
            "showbackground": true,
            "ticks": "",
            "zerolinecolor": "white"
           },
           "zaxis": {
            "backgroundcolor": "#E5ECF6",
            "gridcolor": "white",
            "gridwidth": 2,
            "linecolor": "white",
            "showbackground": true,
            "ticks": "",
            "zerolinecolor": "white"
           }
          },
          "shapedefaults": {
           "line": {
            "color": "#2a3f5f"
           }
          },
          "ternary": {
           "aaxis": {
            "gridcolor": "white",
            "linecolor": "white",
            "ticks": ""
           },
           "baxis": {
            "gridcolor": "white",
            "linecolor": "white",
            "ticks": ""
           },
           "bgcolor": "#E5ECF6",
           "caxis": {
            "gridcolor": "white",
            "linecolor": "white",
            "ticks": ""
           }
          },
          "title": {
           "x": 0.05
          },
          "xaxis": {
           "automargin": true,
           "gridcolor": "white",
           "linecolor": "white",
           "ticks": "",
           "title": {
            "standoff": 15
           },
           "zerolinecolor": "white",
           "zerolinewidth": 2
          },
          "yaxis": {
           "automargin": true,
           "gridcolor": "white",
           "linecolor": "white",
           "ticks": "",
           "title": {
            "standoff": 15
           },
           "zerolinecolor": "white",
           "zerolinewidth": 2
          }
         }
        },
        "title": {
         "text": "Interactive Candlestick Chart"
        },
        "xaxis": {
         "rangeslider": {
          "visible": false
         }
        }
       }
      }
     },
     "metadata": {},
     "output_type": "display_data"
    }
   ],
   "source": [
    "fig_candle = go.Figure(data=[go.Candlestick(x=df.index,\n",
    "                                           open=df['Open'],\n",
    "                                           high=df['High'],\n",
    "                                           low=df['Low'],\n",
    "                                           close=df['Close'])])\n",
    "fig_candle.update_layout(title='Interactive Candlestick Chart', xaxis_rangeslider_visible=False)\n",
    "fig_candle.show()"
   ]
  },
  {
   "cell_type": "markdown",
   "id": "6da35a67",
   "metadata": {},
   "source": [
    "# Volume Profiles"
   ]
  },
  {
   "cell_type": "code",
   "execution_count": 6,
   "id": "7982e674",
   "metadata": {},
   "outputs": [
    {
     "data": {
      "application/vnd.plotly.v1+json": {
       "config": {
        "plotlyServerURL": "https://plot.ly"
       },
       "data": [
        {
         "nbinsx": 100,
         "type": "histogram",
         "x": [
          83322600,
          33738800,
          50841400,
          6289400,
          73546000,
          64120100,
          6253200,
          54686000,
          6901100,
          97798600,
          42375100,
          56007100,
          49325300,
          7291100,
          57450700,
          25818500,
          43116600,
          7134400,
          44630900,
          62199000,
          61707600,
          42513100,
          37047900,
          4624800,
          65573800,
          3966000,
          28922400,
          36964500,
          35642100,
          5215700,
          29603600,
          68167900,
          31095100,
          59144100,
          30000100,
          5294700,
          5710300,
          58867200,
          28397400,
          28367200,
          51011300,
          4546200,
          22491100,
          29891100,
          48394200,
          32423700,
          29219100,
          13238700,
          55469600,
          24990900,
          6830700,
          31295600,
          6142600,
          21190000,
          22724300,
          44998500,
          22491000,
          30546900,
          3676100,
          50547000,
          27565300,
          4911300,
          55479000,
          26323900,
          4911000,
          24808200,
          52238100,
          23328600,
          30760100,
          5953300,
          70732300,
          30242500,
          28288200,
          5660700,
          87558000,
          24109800,
          4553100,
          56182000,
          21473200,
          24101500,
          25395200,
          3479500,
          47204800,
          17340200,
          7443400,
          26653400,
          53833600,
          24438900,
          5759300,
          68572400,
          32850100,
          28333900,
          31508600,
          84457100,
          33339700,
          6292400,
          32303900,
          73695900,
          33620300,
          5956700,
          77167900,
          38367300,
          46028000,
          9215300,
          7903700,
          54499500,
          54768800,
          76161100,
          69527400,
          76140300,
          6918800,
          98944600,
          5113400,
          73641400,
          26033900,
          43466600,
          73938300,
          4886300,
          34558700,
          33122800,
          32336900,
          75701800,
          5808000,
          34873300,
          15653300,
          67622100,
          36610900,
          31385800,
          25245000,
          28172000,
          12991700,
          59196500,
          25393400,
          26840200,
          8625800,
          52390300,
          21878600,
          45992200,
          6489400,
          24913500,
          51305700,
          6287300,
          26148300,
          25087000,
          49501700,
          25009800,
          7131500,
          25053400,
          32766000,
          5610200,
          68749800,
          28086500,
          4413700,
          56976200,
          20719900,
          24883300,
          25824300,
          3298100,
          46278300,
          20377200,
          4205500,
          22064800,
          21864200,
          51511700,
          34684200,
          45390100,
          4660500,
          29770300,
          2657900,
          19741500,
          23103000,
          47716900,
          47644200,
          18721300,
          27276600,
          4044800,
          50133100,
          3965400,
          27403400,
          22761600,
          21650700,
          68445600,
          7406400,
          24222700,
          49386500,
          20987900,
          20745400,
          5350500,
          29043400,
          6136000,
          41516200,
          23836200,
          17944500,
          49923000,
          17641400,
          20161800,
          47720200,
          16732000,
          17150300,
          22128300,
          23244400,
          52456400,
          9947800,
          22515300,
          21676400,
          6348000,
          58337300,
          22369800,
          21410900,
          26611000,
          41949600,
          5586600,
          5426600,
          31408100,
          48714100,
          45772200,
          4623200,
          37068200,
          45498800,
          64599200,
          46462600,
          5618800,
          38235200,
          64902300,
          36446700,
          55209200,
          4221900,
          23957900,
          21294100,
          20926300,
          52472900,
          5341500,
          20343100,
          48425700,
          4318600,
          26404400,
          22360800,
          65136000,
          17116300,
          5064100,
          22519900,
          81235400,
          3879700,
          19780600,
          28181200,
          3988600,
          20705300
         ]
        }
       ],
       "layout": {
        "template": {
         "data": {
          "bar": [
           {
            "error_x": {
             "color": "#2a3f5f"
            },
            "error_y": {
             "color": "#2a3f5f"
            },
            "marker": {
             "line": {
              "color": "#E5ECF6",
              "width": 0.5
             },
             "pattern": {
              "fillmode": "overlay",
              "size": 10,
              "solidity": 0.2
             }
            },
            "type": "bar"
           }
          ],
          "barpolar": [
           {
            "marker": {
             "line": {
              "color": "#E5ECF6",
              "width": 0.5
             },
             "pattern": {
              "fillmode": "overlay",
              "size": 10,
              "solidity": 0.2
             }
            },
            "type": "barpolar"
           }
          ],
          "carpet": [
           {
            "aaxis": {
             "endlinecolor": "#2a3f5f",
             "gridcolor": "white",
             "linecolor": "white",
             "minorgridcolor": "white",
             "startlinecolor": "#2a3f5f"
            },
            "baxis": {
             "endlinecolor": "#2a3f5f",
             "gridcolor": "white",
             "linecolor": "white",
             "minorgridcolor": "white",
             "startlinecolor": "#2a3f5f"
            },
            "type": "carpet"
           }
          ],
          "choropleth": [
           {
            "colorbar": {
             "outlinewidth": 0,
             "ticks": ""
            },
            "type": "choropleth"
           }
          ],
          "contour": [
           {
            "colorbar": {
             "outlinewidth": 0,
             "ticks": ""
            },
            "colorscale": [
             [
              0,
              "#0d0887"
             ],
             [
              0.1111111111111111,
              "#46039f"
             ],
             [
              0.2222222222222222,
              "#7201a8"
             ],
             [
              0.3333333333333333,
              "#9c179e"
             ],
             [
              0.4444444444444444,
              "#bd3786"
             ],
             [
              0.5555555555555556,
              "#d8576b"
             ],
             [
              0.6666666666666666,
              "#ed7953"
             ],
             [
              0.7777777777777778,
              "#fb9f3a"
             ],
             [
              0.8888888888888888,
              "#fdca26"
             ],
             [
              1,
              "#f0f921"
             ]
            ],
            "type": "contour"
           }
          ],
          "contourcarpet": [
           {
            "colorbar": {
             "outlinewidth": 0,
             "ticks": ""
            },
            "type": "contourcarpet"
           }
          ],
          "heatmap": [
           {
            "colorbar": {
             "outlinewidth": 0,
             "ticks": ""
            },
            "colorscale": [
             [
              0,
              "#0d0887"
             ],
             [
              0.1111111111111111,
              "#46039f"
             ],
             [
              0.2222222222222222,
              "#7201a8"
             ],
             [
              0.3333333333333333,
              "#9c179e"
             ],
             [
              0.4444444444444444,
              "#bd3786"
             ],
             [
              0.5555555555555556,
              "#d8576b"
             ],
             [
              0.6666666666666666,
              "#ed7953"
             ],
             [
              0.7777777777777778,
              "#fb9f3a"
             ],
             [
              0.8888888888888888,
              "#fdca26"
             ],
             [
              1,
              "#f0f921"
             ]
            ],
            "type": "heatmap"
           }
          ],
          "heatmapgl": [
           {
            "colorbar": {
             "outlinewidth": 0,
             "ticks": ""
            },
            "colorscale": [
             [
              0,
              "#0d0887"
             ],
             [
              0.1111111111111111,
              "#46039f"
             ],
             [
              0.2222222222222222,
              "#7201a8"
             ],
             [
              0.3333333333333333,
              "#9c179e"
             ],
             [
              0.4444444444444444,
              "#bd3786"
             ],
             [
              0.5555555555555556,
              "#d8576b"
             ],
             [
              0.6666666666666666,
              "#ed7953"
             ],
             [
              0.7777777777777778,
              "#fb9f3a"
             ],
             [
              0.8888888888888888,
              "#fdca26"
             ],
             [
              1,
              "#f0f921"
             ]
            ],
            "type": "heatmapgl"
           }
          ],
          "histogram": [
           {
            "marker": {
             "pattern": {
              "fillmode": "overlay",
              "size": 10,
              "solidity": 0.2
             }
            },
            "type": "histogram"
           }
          ],
          "histogram2d": [
           {
            "colorbar": {
             "outlinewidth": 0,
             "ticks": ""
            },
            "colorscale": [
             [
              0,
              "#0d0887"
             ],
             [
              0.1111111111111111,
              "#46039f"
             ],
             [
              0.2222222222222222,
              "#7201a8"
             ],
             [
              0.3333333333333333,
              "#9c179e"
             ],
             [
              0.4444444444444444,
              "#bd3786"
             ],
             [
              0.5555555555555556,
              "#d8576b"
             ],
             [
              0.6666666666666666,
              "#ed7953"
             ],
             [
              0.7777777777777778,
              "#fb9f3a"
             ],
             [
              0.8888888888888888,
              "#fdca26"
             ],
             [
              1,
              "#f0f921"
             ]
            ],
            "type": "histogram2d"
           }
          ],
          "histogram2dcontour": [
           {
            "colorbar": {
             "outlinewidth": 0,
             "ticks": ""
            },
            "colorscale": [
             [
              0,
              "#0d0887"
             ],
             [
              0.1111111111111111,
              "#46039f"
             ],
             [
              0.2222222222222222,
              "#7201a8"
             ],
             [
              0.3333333333333333,
              "#9c179e"
             ],
             [
              0.4444444444444444,
              "#bd3786"
             ],
             [
              0.5555555555555556,
              "#d8576b"
             ],
             [
              0.6666666666666666,
              "#ed7953"
             ],
             [
              0.7777777777777778,
              "#fb9f3a"
             ],
             [
              0.8888888888888888,
              "#fdca26"
             ],
             [
              1,
              "#f0f921"
             ]
            ],
            "type": "histogram2dcontour"
           }
          ],
          "mesh3d": [
           {
            "colorbar": {
             "outlinewidth": 0,
             "ticks": ""
            },
            "type": "mesh3d"
           }
          ],
          "parcoords": [
           {
            "line": {
             "colorbar": {
              "outlinewidth": 0,
              "ticks": ""
             }
            },
            "type": "parcoords"
           }
          ],
          "pie": [
           {
            "automargin": true,
            "type": "pie"
           }
          ],
          "scatter": [
           {
            "fillpattern": {
             "fillmode": "overlay",
             "size": 10,
             "solidity": 0.2
            },
            "type": "scatter"
           }
          ],
          "scatter3d": [
           {
            "line": {
             "colorbar": {
              "outlinewidth": 0,
              "ticks": ""
             }
            },
            "marker": {
             "colorbar": {
              "outlinewidth": 0,
              "ticks": ""
             }
            },
            "type": "scatter3d"
           }
          ],
          "scattercarpet": [
           {
            "marker": {
             "colorbar": {
              "outlinewidth": 0,
              "ticks": ""
             }
            },
            "type": "scattercarpet"
           }
          ],
          "scattergeo": [
           {
            "marker": {
             "colorbar": {
              "outlinewidth": 0,
              "ticks": ""
             }
            },
            "type": "scattergeo"
           }
          ],
          "scattergl": [
           {
            "marker": {
             "colorbar": {
              "outlinewidth": 0,
              "ticks": ""
             }
            },
            "type": "scattergl"
           }
          ],
          "scattermapbox": [
           {
            "marker": {
             "colorbar": {
              "outlinewidth": 0,
              "ticks": ""
             }
            },
            "type": "scattermapbox"
           }
          ],
          "scatterpolar": [
           {
            "marker": {
             "colorbar": {
              "outlinewidth": 0,
              "ticks": ""
             }
            },
            "type": "scatterpolar"
           }
          ],
          "scatterpolargl": [
           {
            "marker": {
             "colorbar": {
              "outlinewidth": 0,
              "ticks": ""
             }
            },
            "type": "scatterpolargl"
           }
          ],
          "scatterternary": [
           {
            "marker": {
             "colorbar": {
              "outlinewidth": 0,
              "ticks": ""
             }
            },
            "type": "scatterternary"
           }
          ],
          "surface": [
           {
            "colorbar": {
             "outlinewidth": 0,
             "ticks": ""
            },
            "colorscale": [
             [
              0,
              "#0d0887"
             ],
             [
              0.1111111111111111,
              "#46039f"
             ],
             [
              0.2222222222222222,
              "#7201a8"
             ],
             [
              0.3333333333333333,
              "#9c179e"
             ],
             [
              0.4444444444444444,
              "#bd3786"
             ],
             [
              0.5555555555555556,
              "#d8576b"
             ],
             [
              0.6666666666666666,
              "#ed7953"
             ],
             [
              0.7777777777777778,
              "#fb9f3a"
             ],
             [
              0.8888888888888888,
              "#fdca26"
             ],
             [
              1,
              "#f0f921"
             ]
            ],
            "type": "surface"
           }
          ],
          "table": [
           {
            "cells": {
             "fill": {
              "color": "#EBF0F8"
             },
             "line": {
              "color": "white"
             }
            },
            "header": {
             "fill": {
              "color": "#C8D4E3"
             },
             "line": {
              "color": "white"
             }
            },
            "type": "table"
           }
          ]
         },
         "layout": {
          "annotationdefaults": {
           "arrowcolor": "#2a3f5f",
           "arrowhead": 0,
           "arrowwidth": 1
          },
          "autotypenumbers": "strict",
          "coloraxis": {
           "colorbar": {
            "outlinewidth": 0,
            "ticks": ""
           }
          },
          "colorscale": {
           "diverging": [
            [
             0,
             "#8e0152"
            ],
            [
             0.1,
             "#c51b7d"
            ],
            [
             0.2,
             "#de77ae"
            ],
            [
             0.3,
             "#f1b6da"
            ],
            [
             0.4,
             "#fde0ef"
            ],
            [
             0.5,
             "#f7f7f7"
            ],
            [
             0.6,
             "#e6f5d0"
            ],
            [
             0.7,
             "#b8e186"
            ],
            [
             0.8,
             "#7fbc41"
            ],
            [
             0.9,
             "#4d9221"
            ],
            [
             1,
             "#276419"
            ]
           ],
           "sequential": [
            [
             0,
             "#0d0887"
            ],
            [
             0.1111111111111111,
             "#46039f"
            ],
            [
             0.2222222222222222,
             "#7201a8"
            ],
            [
             0.3333333333333333,
             "#9c179e"
            ],
            [
             0.4444444444444444,
             "#bd3786"
            ],
            [
             0.5555555555555556,
             "#d8576b"
            ],
            [
             0.6666666666666666,
             "#ed7953"
            ],
            [
             0.7777777777777778,
             "#fb9f3a"
            ],
            [
             0.8888888888888888,
             "#fdca26"
            ],
            [
             1,
             "#f0f921"
            ]
           ],
           "sequentialminus": [
            [
             0,
             "#0d0887"
            ],
            [
             0.1111111111111111,
             "#46039f"
            ],
            [
             0.2222222222222222,
             "#7201a8"
            ],
            [
             0.3333333333333333,
             "#9c179e"
            ],
            [
             0.4444444444444444,
             "#bd3786"
            ],
            [
             0.5555555555555556,
             "#d8576b"
            ],
            [
             0.6666666666666666,
             "#ed7953"
            ],
            [
             0.7777777777777778,
             "#fb9f3a"
            ],
            [
             0.8888888888888888,
             "#fdca26"
            ],
            [
             1,
             "#f0f921"
            ]
           ]
          },
          "colorway": [
           "#636efa",
           "#EF553B",
           "#00cc96",
           "#ab63fa",
           "#FFA15A",
           "#19d3f3",
           "#FF6692",
           "#B6E880",
           "#FF97FF",
           "#FECB52"
          ],
          "font": {
           "color": "#2a3f5f"
          },
          "geo": {
           "bgcolor": "white",
           "lakecolor": "white",
           "landcolor": "#E5ECF6",
           "showlakes": true,
           "showland": true,
           "subunitcolor": "white"
          },
          "hoverlabel": {
           "align": "left"
          },
          "hovermode": "closest",
          "mapbox": {
           "style": "light"
          },
          "paper_bgcolor": "white",
          "plot_bgcolor": "#E5ECF6",
          "polar": {
           "angularaxis": {
            "gridcolor": "white",
            "linecolor": "white",
            "ticks": ""
           },
           "bgcolor": "#E5ECF6",
           "radialaxis": {
            "gridcolor": "white",
            "linecolor": "white",
            "ticks": ""
           }
          },
          "scene": {
           "xaxis": {
            "backgroundcolor": "#E5ECF6",
            "gridcolor": "white",
            "gridwidth": 2,
            "linecolor": "white",
            "showbackground": true,
            "ticks": "",
            "zerolinecolor": "white"
           },
           "yaxis": {
            "backgroundcolor": "#E5ECF6",
            "gridcolor": "white",
            "gridwidth": 2,
            "linecolor": "white",
            "showbackground": true,
            "ticks": "",
            "zerolinecolor": "white"
           },
           "zaxis": {
            "backgroundcolor": "#E5ECF6",
            "gridcolor": "white",
            "gridwidth": 2,
            "linecolor": "white",
            "showbackground": true,
            "ticks": "",
            "zerolinecolor": "white"
           }
          },
          "shapedefaults": {
           "line": {
            "color": "#2a3f5f"
           }
          },
          "ternary": {
           "aaxis": {
            "gridcolor": "white",
            "linecolor": "white",
            "ticks": ""
           },
           "baxis": {
            "gridcolor": "white",
            "linecolor": "white",
            "ticks": ""
           },
           "bgcolor": "#E5ECF6",
           "caxis": {
            "gridcolor": "white",
            "linecolor": "white",
            "ticks": ""
           }
          },
          "title": {
           "x": 0.05
          },
          "xaxis": {
           "automargin": true,
           "gridcolor": "white",
           "linecolor": "white",
           "ticks": "",
           "title": {
            "standoff": 15
           },
           "zerolinecolor": "white",
           "zerolinewidth": 2
          },
          "yaxis": {
           "automargin": true,
           "gridcolor": "white",
           "linecolor": "white",
           "ticks": "",
           "title": {
            "standoff": 15
           },
           "zerolinecolor": "white",
           "zerolinewidth": 2
          }
         }
        },
        "title": {
         "text": "Volume Profile"
        }
       }
      }
     },
     "metadata": {},
     "output_type": "display_data"
    }
   ],
   "source": [
    "fig_volume = go.Figure(go.Histogram(x=df['Volume'], nbinsx=100))\n",
    "fig_volume.update_layout(title='Volume Profile')\n",
    "fig_volume.show()"
   ]
  },
  {
   "cell_type": "markdown",
   "id": "7e1c4db1",
   "metadata": {},
   "source": [
    "# Correlation Heatmap"
   ]
  },
  {
   "cell_type": "code",
   "execution_count": 7,
   "id": "69f0ecd4",
   "metadata": {},
   "outputs": [
    {
     "data": {
      "image/png": "[encoded data removed]",
      "text/plain": [
       "<Figure size 1000x800 with 2 Axes>"
      ]
     },
     "metadata": {},
     "output_type": "display_data"
    }
   ],
   "source": [
    "correlation_matrix = df[['Open', 'High', 'Low', 'Close', 'Volume']].corr()\n",
    "plt.figure(figsize=(10, 8))\n",
    "sns.heatmap(correlation_matrix, annot=True, cmap='coolwarm')\n",
    "plt.title('Correlation Heatmap')\n",
    "plt.show()"
   ]
  },
  {
   "cell_type": "markdown",
   "id": "5164eca3",
   "metadata": {},
   "source": [
    "# Distribution Plots"
   ]
  },
  {
   "cell_type": "code",
   "execution_count": 8,
   "id": "749ffbcb",
   "metadata": {},
   "outputs": [
    {
     "data": {
      "image/png": "[encoded data removed]",
      "text/plain": [
       "<Figure size 1000x600 with 1 Axes>"
      ]
     },
     "metadata": {},
     "output_type": "display_data"
    }
   ],
   "source": [
    "tmp = df\n",
    "# Aggregate data to daily level\n",
    "tmp = tmp.groupby('Date').agg({'Open':'first', 'High':'max', 'Low':'min', 'Close':'last', 'Adj Close':'last', 'Volume':'sum'})\n",
    "tmp['Daily_Return'] = tmp['Close'].pct_change().dropna()  # Calculate daily returns\n",
    "\n",
    "plt.figure(figsize=(10, 6))\n",
    "sns.histplot(tmp['Daily_Return'], kde=True)\n",
    "plt.title('Distribution of Daily Returns')\n",
    "plt.show()"
   ]
  },
  {
   "cell_type": "markdown",
   "id": "2e3c3f34",
   "metadata": {},
   "source": [
    "# Scatter Plot"
   ]
  },
  {
   "cell_type": "code",
   "execution_count": 10,
   "id": "ed83ae16",
   "metadata": {},
   "outputs": [
    {
     "data": {
      "image/png": "[encoded data removed]",
      "text/plain": [
       "<Figure size 1000x600 with 1 Axes>"
      ]
     },
     "metadata": {},
     "output_type": "display_data"
    }
   ],
   "source": [
    "price_change = df['Close'].pct_change().dropna()\n",
    "volume = df['Volume'][1:] #Remove the first row to match the length of price_change.\n",
    "\n",
    "plt.figure(figsize=(10, 6))\n",
    "plt.scatter(volume, price_change)\n",
    "plt.title('Volume vs. Price Change')\n",
    "plt.xlabel('Volume')\n",
    "plt.ylabel('Price Change')\n",
    "plt.show()"
   ]
  }
 ],
 "metadata": {
  "kernelspec": {
   "display_name": "streamlit_pycaret",
   "language": "python",
   "name": "python3"
  },
  "language_info": {
   "codemirror_mode": {
    "name": "ipython",
    "version": 3
   },
   "file_extension": ".py",
   "mimetype": "text/x-python",
   "name": "python",
   "nbconvert_exporter": "python",
   "pygments_lexer": "ipython3",
   "version": "3.11.7"
  }
 },
 "nbformat": 4,
 "nbformat_minor": 5
}
